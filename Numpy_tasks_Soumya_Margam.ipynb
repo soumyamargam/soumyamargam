{
  "cells": [
    {
      "cell_type": "markdown",
      "metadata": {
        "id": "view-in-github",
        "colab_type": "text"
      },
      "source": [
        "<a href=\"https://colab.research.google.com/github/soumyamargam/soumyamargam/blob/main/Numpy_tasks_Soumya_Margam.ipynb\" target=\"_parent\"><img src=\"https://colab.research.google.com/assets/colab-badge.svg\" alt=\"Open In Colab\"/></a>"
      ]
    },
    {
      "cell_type": "markdown",
      "metadata": {
        "id": "q_vVBGoG5q1v"
      },
      "source": [
        "# Numpy\n",
        "\n"
      ]
    },
    {
      "cell_type": "markdown",
      "metadata": {
        "id": "PdF8sMXj5q1z"
      },
      "source": [
        "#### 1. Import the numpy package under the name `np` (★☆☆) \n",
        "(**hint**: import … as …)"
      ]
    },
    {
      "cell_type": "code",
      "execution_count": 2,
      "metadata": {
        "collapsed": true,
        "id": "E_hpvIfl5q1z"
      },
      "outputs": [],
      "source": [
        "import numpy as np"
      ]
    },
    {
      "cell_type": "markdown",
      "metadata": {
        "id": "-upPFtpF5q10"
      },
      "source": [
        "#### 2. Print the numpy version and the configuration (★☆☆) \n",
        "(**hint**: np.\\_\\_version\\_\\_, np.show\\_config)"
      ]
    },
    {
      "cell_type": "code",
      "execution_count": null,
      "metadata": {
        "id": "TMW9KPrB5q11",
        "outputId": "15e63e4d-550c-4769-c295-782389708001",
        "colab": {
          "base_uri": "https://localhost:8080/"
        }
      },
      "outputs": [
        {
          "output_type": "stream",
          "name": "stdout",
          "text": [
            "1.21.6\n",
            "blas_mkl_info:\n",
            "  NOT AVAILABLE\n",
            "blis_info:\n",
            "  NOT AVAILABLE\n",
            "openblas_info:\n",
            "    libraries = ['openblas', 'openblas']\n",
            "    library_dirs = ['/usr/local/lib']\n",
            "    language = c\n",
            "    define_macros = [('HAVE_CBLAS', None)]\n",
            "    runtime_library_dirs = ['/usr/local/lib']\n",
            "blas_opt_info:\n",
            "    libraries = ['openblas', 'openblas']\n",
            "    library_dirs = ['/usr/local/lib']\n",
            "    language = c\n",
            "    define_macros = [('HAVE_CBLAS', None)]\n",
            "    runtime_library_dirs = ['/usr/local/lib']\n",
            "lapack_mkl_info:\n",
            "  NOT AVAILABLE\n",
            "openblas_lapack_info:\n",
            "    libraries = ['openblas', 'openblas']\n",
            "    library_dirs = ['/usr/local/lib']\n",
            "    language = c\n",
            "    define_macros = [('HAVE_CBLAS', None)]\n",
            "    runtime_library_dirs = ['/usr/local/lib']\n",
            "lapack_opt_info:\n",
            "    libraries = ['openblas', 'openblas']\n",
            "    library_dirs = ['/usr/local/lib']\n",
            "    language = c\n",
            "    define_macros = [('HAVE_CBLAS', None)]\n",
            "    runtime_library_dirs = ['/usr/local/lib']\n",
            "Supported SIMD extensions in this NumPy install:\n",
            "    baseline = SSE,SSE2,SSE3\n",
            "    found = SSSE3,SSE41,POPCNT,SSE42,AVX,F16C,FMA3,AVX2\n",
            "    not found = AVX512F,AVX512CD,AVX512_KNL,AVX512_KNM,AVX512_SKX,AVX512_CLX,AVX512_CNL,AVX512_ICL\n"
          ]
        }
      ],
      "source": [
        "print(np.__version__)\n",
        "np.__config__.show()"
      ]
    },
    {
      "cell_type": "markdown",
      "metadata": {
        "id": "dp8kq8PE5q11"
      },
      "source": [
        "#### 3. Create a null vector of size 10 (★☆☆) \n",
        "(**hint**: np.zeros)"
      ]
    },
    {
      "cell_type": "code",
      "execution_count": null,
      "metadata": {
        "id": "hVy_X81D5q11",
        "colab": {
          "base_uri": "https://localhost:8080/"
        },
        "outputId": "5677d638-82fe-4247-f6ed-71046f25ebd4"
      },
      "outputs": [
        {
          "output_type": "execute_result",
          "data": {
            "text/plain": [
              "array([0., 0., 0., 0., 0., 0., 0., 0., 0., 0.])"
            ]
          },
          "metadata": {},
          "execution_count": 86
        }
      ],
      "source": [
        "a = np.zeros(10)\n",
        "a"
      ]
    },
    {
      "cell_type": "markdown",
      "metadata": {
        "id": "icnZkTCH5q12"
      },
      "source": [
        "#### 4.  How to find the memory size of any array (★☆☆) \n",
        "(**hint**: size, itemsize)"
      ]
    },
    {
      "cell_type": "code",
      "execution_count": null,
      "metadata": {
        "id": "hLQK-BTb5q12",
        "colab": {
          "base_uri": "https://localhost:8080/"
        },
        "outputId": "fadb4142-84de-4a04-f95c-d58d2ca29a76"
      },
      "outputs": [
        {
          "output_type": "execute_result",
          "data": {
            "text/plain": [
              "8"
            ]
          },
          "metadata": {},
          "execution_count": 25
        }
      ],
      "source": [
        "a= np.array([2,3,5,7]) \n",
        "a.size\n",
        "a.itemsize"
      ]
    },
    {
      "cell_type": "markdown",
      "metadata": {
        "id": "a0H5DQGM5q13"
      },
      "source": [
        "#### 5.  How to get the documentation of the numpy add function from the command line? (★☆☆) \n",
        "(**hint**: np.info)"
      ]
    },
    {
      "cell_type": "code",
      "execution_count": null,
      "metadata": {
        "collapsed": true,
        "id": "n-JU_xuS5q13",
        "colab": {
          "base_uri": "https://localhost:8080/"
        },
        "outputId": "a3fc3d09-babc-4413-c09c-db1746cec417"
      },
      "outputs": [
        {
          "output_type": "stream",
          "name": "stdout",
          "text": [
            "add(x1, x2, /, out=None, *, where=True, casting='same_kind', order='K', dtype=None, subok=True[, signature, extobj])\n",
            "\n",
            "Add arguments element-wise.\n",
            "\n",
            "Parameters\n",
            "----------\n",
            "x1, x2 : array_like\n",
            "    The arrays to be added.\n",
            "    If ``x1.shape != x2.shape``, they must be broadcastable to a common\n",
            "    shape (which becomes the shape of the output).\n",
            "out : ndarray, None, or tuple of ndarray and None, optional\n",
            "    A location into which the result is stored. If provided, it must have\n",
            "    a shape that the inputs broadcast to. If not provided or None,\n",
            "    a freshly-allocated array is returned. A tuple (possible only as a\n",
            "    keyword argument) must have length equal to the number of outputs.\n",
            "where : array_like, optional\n",
            "    This condition is broadcast over the input. At locations where the\n",
            "    condition is True, the `out` array will be set to the ufunc result.\n",
            "    Elsewhere, the `out` array will retain its original value.\n",
            "    Note that if an uninitialized `out` array is created via the default\n",
            "    ``out=None``, locations within it where the condition is False will\n",
            "    remain uninitialized.\n",
            "**kwargs\n",
            "    For other keyword-only arguments, see the\n",
            "    :ref:`ufunc docs <ufuncs.kwargs>`.\n",
            "\n",
            "Returns\n",
            "-------\n",
            "add : ndarray or scalar\n",
            "    The sum of `x1` and `x2`, element-wise.\n",
            "    This is a scalar if both `x1` and `x2` are scalars.\n",
            "\n",
            "Notes\n",
            "-----\n",
            "Equivalent to `x1` + `x2` in terms of array broadcasting.\n",
            "\n",
            "Examples\n",
            "--------\n",
            ">>> np.add(1.0, 4.0)\n",
            "5.0\n",
            ">>> x1 = np.arange(9.0).reshape((3, 3))\n",
            ">>> x2 = np.arange(3.0)\n",
            ">>> np.add(x1, x2)\n",
            "array([[  0.,   2.,   4.],\n",
            "       [  3.,   5.,   7.],\n",
            "       [  6.,   8.,  10.]])\n",
            "\n",
            "The ``+`` operator can be used as a shorthand for ``np.add`` on ndarrays.\n",
            "\n",
            ">>> x1 = np.arange(9.0).reshape((3, 3))\n",
            ">>> x2 = np.arange(3.0)\n",
            ">>> x1 + x2\n",
            "array([[ 0.,  2.,  4.],\n",
            "       [ 3.,  5.,  7.],\n",
            "       [ 6.,  8., 10.]])\n",
            "None\n"
          ]
        }
      ],
      "source": [
        "print(np.info(np.add))"
      ]
    },
    {
      "cell_type": "markdown",
      "metadata": {
        "id": "C5wTM80O5q13"
      },
      "source": [
        "#### 6.  Create a null vector of size 10 but the fifth value which is 1 (★☆☆) \n",
        "(**hint**: array\\[4\\])"
      ]
    },
    {
      "cell_type": "code",
      "execution_count": null,
      "metadata": {
        "id": "2gFaS6ik5q14",
        "colab": {
          "base_uri": "https://localhost:8080/"
        },
        "outputId": "c5c6e36f-54f4-41ee-a174-4fcb3321d5a8"
      },
      "outputs": [
        {
          "output_type": "execute_result",
          "data": {
            "text/plain": [
              "array([0., 0., 0., 0., 1., 0., 0., 0., 0., 0.])"
            ]
          },
          "metadata": {},
          "execution_count": 27
        }
      ],
      "source": [
        "array =np.zeros(10)\n",
        "array[4]=1\n",
        "array"
      ]
    },
    {
      "cell_type": "markdown",
      "metadata": {
        "id": "ZO2H84Ns5q14"
      },
      "source": [
        "#### 7.  Create a vector with values ranging from 10 to 49 (★☆☆) \n",
        "(**hint**: np.arange)"
      ]
    },
    {
      "cell_type": "code",
      "execution_count": null,
      "metadata": {
        "id": "xvgz1Ksr5q15",
        "colab": {
          "base_uri": "https://localhost:8080/"
        },
        "outputId": "d339485a-c3da-4374-f893-1af88a2c001f"
      },
      "outputs": [
        {
          "output_type": "execute_result",
          "data": {
            "text/plain": [
              "array([10, 11, 12, 13, 14, 15, 16, 17, 18, 19, 20, 21, 22, 23, 24, 25, 26,\n",
              "       27, 28, 29, 30, 31, 32, 33, 34, 35, 36, 37, 38, 39, 40, 41, 42, 43,\n",
              "       44, 45, 46, 47, 48, 49])"
            ]
          },
          "metadata": {},
          "execution_count": 87
        }
      ],
      "source": [
        "array = np.arange(10,50)\n",
        "array"
      ]
    },
    {
      "cell_type": "markdown",
      "metadata": {
        "id": "JdOaGPZj5q15"
      },
      "source": [
        "#### 8.  Reverse a vector (first element becomes last) (★☆☆) \n",
        "(**hint**: array\\[::-1\\])"
      ]
    },
    {
      "cell_type": "code",
      "execution_count": null,
      "metadata": {
        "id": "pRNBm9Ne5q15",
        "colab": {
          "base_uri": "https://localhost:8080/"
        },
        "outputId": "4e30b03f-21e5-426e-a63d-aab86dba08cf"
      },
      "outputs": [
        {
          "output_type": "execute_result",
          "data": {
            "text/plain": [
              "array([15, 14, 13, 12, 11, 10])"
            ]
          },
          "metadata": {},
          "execution_count": 29
        }
      ],
      "source": [
        "array = np.arange(10,16)\n",
        "array[::-1]"
      ]
    },
    {
      "cell_type": "markdown",
      "metadata": {
        "id": "imldMYOg5q15"
      },
      "source": [
        "#### 9.  Create a 3x3 matrix with values ranging from 0 to 8 (★☆☆) \n",
        "(**hint**: reshape)"
      ]
    },
    {
      "cell_type": "code",
      "execution_count": null,
      "metadata": {
        "id": "wvxwO6Oj5q15",
        "colab": {
          "base_uri": "https://localhost:8080/"
        },
        "outputId": "5e7cfe6b-2bcf-4473-8865-6032285c3e70"
      },
      "outputs": [
        {
          "output_type": "execute_result",
          "data": {
            "text/plain": [
              "array([[0, 1, 2],\n",
              "       [3, 4, 5],\n",
              "       [6, 7, 8]])"
            ]
          },
          "metadata": {},
          "execution_count": 35
        }
      ],
      "source": [
        "array = np.arange(0,9).reshape(3,3)\n",
        "array"
      ]
    },
    {
      "cell_type": "markdown",
      "metadata": {
        "id": "s6c7653K5q16"
      },
      "source": [
        "#### 10. Find indices of non-zero elements from \\[1,2,0,0,4,0\\] (★☆☆) \n",
        "(**hint**: np.nonzero)"
      ]
    },
    {
      "cell_type": "code",
      "execution_count": null,
      "metadata": {
        "id": "81OqSIcP5q16",
        "colab": {
          "base_uri": "https://localhost:8080/"
        },
        "outputId": "6d2d4ae9-23d3-44bf-e88d-70c32d06366a"
      },
      "outputs": [
        {
          "output_type": "execute_result",
          "data": {
            "text/plain": [
              "(array([0, 1, 4]),)"
            ]
          },
          "metadata": {},
          "execution_count": 88
        }
      ],
      "source": [
        "a = np.nonzero([1,2,0,0,4,0])\n",
        "a"
      ]
    },
    {
      "cell_type": "markdown",
      "metadata": {
        "id": "8Rt-Fkyn5q16"
      },
      "source": [
        "#### 11. Create a 3x3 identity matrix (★☆☆) \n",
        "(**hint**: np.eye)"
      ]
    },
    {
      "cell_type": "code",
      "execution_count": null,
      "metadata": {
        "id": "5rEcRTND5q16",
        "colab": {
          "base_uri": "https://localhost:8080/"
        },
        "outputId": "58f7fb5f-cba5-4e56-e026-e58fc655c08f"
      },
      "outputs": [
        {
          "output_type": "execute_result",
          "data": {
            "text/plain": [
              "array([[1., 0., 0.],\n",
              "       [0., 1., 0.],\n",
              "       [0., 0., 1.]])"
            ]
          },
          "metadata": {},
          "execution_count": 40
        }
      ],
      "source": [
        "a = np.eye(3)\n",
        "a"
      ]
    },
    {
      "cell_type": "markdown",
      "metadata": {
        "id": "jrVdzeUh5q17"
      },
      "source": [
        "#### 12. Create a 3x3x3 array with random values (★☆☆) \n",
        "(**hint**: np.random.random)"
      ]
    },
    {
      "cell_type": "code",
      "execution_count": null,
      "metadata": {
        "collapsed": true,
        "id": "-G0D-GP65q17",
        "colab": {
          "base_uri": "https://localhost:8080/"
        },
        "outputId": "10b06cdc-df13-4701-969e-91fcd4c2e48b"
      },
      "outputs": [
        {
          "output_type": "execute_result",
          "data": {
            "text/plain": [
              "array([[[0.96216766, 0.58265907, 0.07410797],\n",
              "        [0.93956631, 0.79859002, 0.88176175],\n",
              "        [0.68440289, 0.88507689, 0.92228566]],\n",
              "\n",
              "       [[0.59980552, 0.62987408, 0.31849309],\n",
              "        [0.26501916, 0.09627537, 0.33090008],\n",
              "        [0.72078948, 0.05909714, 0.27849438]],\n",
              "\n",
              "       [[0.47770539, 0.4804243 , 0.05470188],\n",
              "        [0.68239758, 0.0415725 , 0.30518467],\n",
              "        [0.08829338, 0.07371241, 0.38045979]]])"
            ]
          },
          "metadata": {},
          "execution_count": 39
        }
      ],
      "source": [
        "a = np.random.random((3,3,3))\n",
        "a\n"
      ]
    },
    {
      "cell_type": "markdown",
      "metadata": {
        "id": "AERIm4R95q17"
      },
      "source": [
        "#### 13. Create a 10x10 array with random values and find the minimum and maximum values (★☆☆) \n",
        "(**hint**: min, max)"
      ]
    },
    {
      "cell_type": "code",
      "execution_count": null,
      "metadata": {
        "id": "3o17mze55q17",
        "colab": {
          "base_uri": "https://localhost:8080/"
        },
        "outputId": "09c4d21f-4801-4b44-8121-3ee24c6fc905"
      },
      "outputs": [
        {
          "output_type": "execute_result",
          "data": {
            "text/plain": [
              "0.9791144356331253"
            ]
          },
          "metadata": {},
          "execution_count": 52
        }
      ],
      "source": [
        "a = np.random.random((10,10))\n",
        "amin, amax =  a.min(), a.max()\n",
        "amin\n",
        "amax\n",
        "\n"
      ]
    },
    {
      "cell_type": "markdown",
      "metadata": {
        "id": "OwGjT1tR5q17"
      },
      "source": [
        "#### 14. Create a random vector of size 30 and find the mean value (★☆☆) \n",
        "(**hint**: mean)"
      ]
    },
    {
      "cell_type": "code",
      "execution_count": null,
      "metadata": {
        "id": "Mfqyrv2G5q17",
        "colab": {
          "base_uri": "https://localhost:8080/"
        },
        "outputId": "c96853be-f641-43cb-df6f-c8a4259e09f8"
      },
      "outputs": [
        {
          "output_type": "execute_result",
          "data": {
            "text/plain": [
              "0.4897593877356945"
            ]
          },
          "metadata": {},
          "execution_count": 53
        }
      ],
      "source": [
        "a = np.random.random(30)\n",
        "mean = a.mean()\n",
        "mean"
      ]
    },
    {
      "cell_type": "markdown",
      "metadata": {
        "id": "5fujJ_6A5q17"
      },
      "source": [
        "#### 15. Create a 2d array with 1 on the border and 0 inside (★☆☆) \n",
        "(**hint**: array\\[1:-1, 1:-1\\])"
      ]
    },
    {
      "cell_type": "code",
      "execution_count": null,
      "metadata": {
        "id": "pWBYs0fu5q17",
        "colab": {
          "base_uri": "https://localhost:8080/"
        },
        "outputId": "fba932ef-f2bb-4a3f-c39c-2c5f8bce8429"
      },
      "outputs": [
        {
          "output_type": "execute_result",
          "data": {
            "text/plain": [
              "array([[1., 1., 1., 1., 1., 1., 1., 1., 1., 1.],\n",
              "       [1., 0., 0., 0., 0., 0., 0., 0., 0., 1.],\n",
              "       [1., 0., 0., 0., 0., 0., 0., 0., 0., 1.],\n",
              "       [1., 0., 0., 0., 0., 0., 0., 0., 0., 1.],\n",
              "       [1., 0., 0., 0., 0., 0., 0., 0., 0., 1.],\n",
              "       [1., 0., 0., 0., 0., 0., 0., 0., 0., 1.],\n",
              "       [1., 0., 0., 0., 0., 0., 0., 0., 0., 1.],\n",
              "       [1., 0., 0., 0., 0., 0., 0., 0., 0., 1.],\n",
              "       [1., 0., 0., 0., 0., 0., 0., 0., 0., 1.],\n",
              "       [1., 1., 1., 1., 1., 1., 1., 1., 1., 1.]])"
            ]
          },
          "metadata": {},
          "execution_count": 90
        }
      ],
      "source": [
        "a = np.ones((10,10))\n",
        "a[1:-1,1:-1]=0\n",
        "a"
      ]
    },
    {
      "cell_type": "markdown",
      "metadata": {
        "id": "Sn5pe0AR5q18"
      },
      "source": [
        "#### 16. How to add a border (filled with 0's) around an existing array? (★☆☆) \n",
        "(**hint**: np.pad)"
      ]
    },
    {
      "cell_type": "code",
      "execution_count": null,
      "metadata": {
        "id": "kewCpCa_5q18",
        "colab": {
          "base_uri": "https://localhost:8080/"
        },
        "outputId": "fac295fb-291a-46e3-9e9b-162184a1f347"
      },
      "outputs": [
        {
          "output_type": "execute_result",
          "data": {
            "text/plain": [
              "array([[0., 0., 0., 0., 0.],\n",
              "       [0., 1., 1., 1., 0.],\n",
              "       [0., 1., 1., 1., 0.],\n",
              "       [0., 1., 1., 1., 0.],\n",
              "       [0., 0., 0., 0., 0.]])"
            ]
          },
          "metadata": {},
          "execution_count": 62
        }
      ],
      "source": [
        "a = np.ones((3,3))\n",
        "a = np.pad(a, pad_width = 1)\n",
        "a"
      ]
    },
    {
      "cell_type": "markdown",
      "metadata": {
        "id": "myXJeciE5q18"
      },
      "source": [
        "#### 17. What is the result of the following expression? (★☆☆) \n",
        "(**hint**: NaN = not a number, inf = infinity)"
      ]
    },
    {
      "cell_type": "markdown",
      "metadata": {
        "id": "zkmtdylf5q18"
      },
      "source": [
        "```python\n",
        "0 * np.nan\n",
        "np.nan == np.nan\n",
        "np.inf > np.nan\n",
        "np.nan - np.nan\n",
        "0.3 == 3 * 0.1\n",
        "```"
      ]
    },
    {
      "cell_type": "code",
      "execution_count": null,
      "metadata": {
        "id": "fv57bZfD5q18",
        "colab": {
          "base_uri": "https://localhost:8080/"
        },
        "outputId": "84b022d9-093d-41c2-e331-7ac886c40f17"
      },
      "outputs": [
        {
          "output_type": "execute_result",
          "data": {
            "text/plain": [
              "False"
            ]
          },
          "metadata": {},
          "execution_count": 65
        }
      ],
      "source": [
        "0 * np.nan\n",
        "np.nan == np.nan\n",
        "np.inf > np.nan\n",
        "np.nan - np.nan\n",
        "0.3 == 3 * 0.1"
      ]
    },
    {
      "cell_type": "markdown",
      "metadata": {
        "id": "s8NuVeDX5q18"
      },
      "source": [
        "#### 18. Create a 5x5 matrix with values 1,2,3,4 just below the diagonal (★☆☆) \n",
        "(**hint**: np.diag)"
      ]
    },
    {
      "cell_type": "code",
      "execution_count": null,
      "metadata": {
        "id": "EBbWAwwU5q18",
        "colab": {
          "base_uri": "https://localhost:8080/"
        },
        "outputId": "c56d782f-58ab-4a5d-8b43-94eb93142d0b"
      },
      "outputs": [
        {
          "output_type": "execute_result",
          "data": {
            "text/plain": [
              "array([[1, 0, 0, 0, 0],\n",
              "       [0, 2, 0, 0, 0],\n",
              "       [0, 0, 3, 0, 0],\n",
              "       [0, 0, 0, 4, 0],\n",
              "       [0, 0, 0, 0, 5]])"
            ]
          },
          "metadata": {},
          "execution_count": 76
        }
      ],
      "source": [
        "a = np.diag([1,2,3,4,5])\n",
        "a"
      ]
    },
    {
      "cell_type": "markdown",
      "metadata": {
        "id": "P8xCTOYg5q18"
      },
      "source": [
        "#### 19. Create a 8x8 matrix and fill it with a checkerboard pattern (★☆☆) \n",
        "(**hint**: array\\[::2\\])"
      ]
    },
    {
      "cell_type": "code",
      "execution_count": null,
      "metadata": {
        "id": "FXmfsnbG5q19",
        "colab": {
          "base_uri": "https://localhost:8080/"
        },
        "outputId": "3347faf7-ed7e-43e0-aa6a-fdedb085d320"
      },
      "outputs": [
        {
          "output_type": "execute_result",
          "data": {
            "text/plain": [
              "array([[0., 1., 0., 1., 0., 1., 0., 1.],\n",
              "       [1., 0., 1., 0., 1., 0., 1., 0.],\n",
              "       [0., 1., 0., 1., 0., 1., 0., 1.],\n",
              "       [1., 0., 1., 0., 1., 0., 1., 0.],\n",
              "       [0., 1., 0., 1., 0., 1., 0., 1.],\n",
              "       [1., 0., 1., 0., 1., 0., 1., 0.],\n",
              "       [0., 1., 0., 1., 0., 1., 0., 1.],\n",
              "       [1., 0., 1., 0., 1., 0., 1., 0.]])"
            ]
          },
          "metadata": {},
          "execution_count": 91
        }
      ],
      "source": [
        "x = np.zeros((8,8))\n",
        "x[1::2,::2] = 1\n",
        "x[::2,1::2] = 1\n",
        "x"
      ]
    },
    {
      "cell_type": "markdown",
      "metadata": {
        "id": "8oKJ7jr05q19"
      },
      "source": [
        "#### 20. Consider a (6,7,8) shape array, what is the index (x,y,z) of the 100th element? \n",
        "(**hint**: np.unravel_index)"
      ]
    },
    {
      "cell_type": "code",
      "execution_count": null,
      "metadata": {
        "id": "2p_gSCux5q19",
        "colab": {
          "base_uri": "https://localhost:8080/"
        },
        "outputId": "7d1e3e72-45c3-4028-b0af-e15d31a19bba"
      },
      "outputs": [
        {
          "output_type": "execute_result",
          "data": {
            "text/plain": [
              "(1, 5, 4)"
            ]
          },
          "metadata": {},
          "execution_count": 92
        }
      ],
      "source": [
        "a = np.unravel_index(100,(6,7,8))\n",
        "a"
      ]
    },
    {
      "cell_type": "markdown",
      "metadata": {
        "id": "E0zVcmP05q19"
      },
      "source": [
        "#### 21. Create a checkerboard 8x8 matrix using the tile function (★☆☆) \n",
        "(**hint**: np.tile)"
      ]
    },
    {
      "cell_type": "code",
      "execution_count": null,
      "metadata": {
        "id": "2awGInrT5q19",
        "colab": {
          "base_uri": "https://localhost:8080/"
        },
        "outputId": "7137c7ca-f6aa-465b-a186-27e626a912a0"
      },
      "outputs": [
        {
          "output_type": "execute_result",
          "data": {
            "text/plain": [
              "array([[0, 1, 0, 1, 0, 1, 0, 1, 0, 1, 0, 1, 0, 1, 0, 1],\n",
              "       [1, 0, 1, 0, 1, 0, 1, 0, 1, 0, 1, 0, 1, 0, 1, 0],\n",
              "       [0, 1, 0, 1, 0, 1, 0, 1, 0, 1, 0, 1, 0, 1, 0, 1],\n",
              "       [1, 0, 1, 0, 1, 0, 1, 0, 1, 0, 1, 0, 1, 0, 1, 0],\n",
              "       [0, 1, 0, 1, 0, 1, 0, 1, 0, 1, 0, 1, 0, 1, 0, 1],\n",
              "       [1, 0, 1, 0, 1, 0, 1, 0, 1, 0, 1, 0, 1, 0, 1, 0],\n",
              "       [0, 1, 0, 1, 0, 1, 0, 1, 0, 1, 0, 1, 0, 1, 0, 1],\n",
              "       [1, 0, 1, 0, 1, 0, 1, 0, 1, 0, 1, 0, 1, 0, 1, 0],\n",
              "       [0, 1, 0, 1, 0, 1, 0, 1, 0, 1, 0, 1, 0, 1, 0, 1],\n",
              "       [1, 0, 1, 0, 1, 0, 1, 0, 1, 0, 1, 0, 1, 0, 1, 0],\n",
              "       [0, 1, 0, 1, 0, 1, 0, 1, 0, 1, 0, 1, 0, 1, 0, 1],\n",
              "       [1, 0, 1, 0, 1, 0, 1, 0, 1, 0, 1, 0, 1, 0, 1, 0],\n",
              "       [0, 1, 0, 1, 0, 1, 0, 1, 0, 1, 0, 1, 0, 1, 0, 1],\n",
              "       [1, 0, 1, 0, 1, 0, 1, 0, 1, 0, 1, 0, 1, 0, 1, 0],\n",
              "       [0, 1, 0, 1, 0, 1, 0, 1, 0, 1, 0, 1, 0, 1, 0, 1],\n",
              "       [1, 0, 1, 0, 1, 0, 1, 0, 1, 0, 1, 0, 1, 0, 1, 0]])"
            ]
          },
          "metadata": {},
          "execution_count": 94
        }
      ],
      "source": [
        "array = np.array([[0,1], [1,0]])\n",
        "a = np.tile(array,(8,8))\n",
        "a"
      ]
    },
    {
      "cell_type": "markdown",
      "metadata": {
        "id": "HaOZG2HV5q19"
      },
      "source": [
        "#### 22. Normalize a 5x5 random matrix (★☆☆) \n",
        "(**hint**: (x - min) / (max - min))"
      ]
    },
    {
      "cell_type": "code",
      "execution_count": null,
      "metadata": {
        "id": "DMvZLFDH5q19",
        "colab": {
          "base_uri": "https://localhost:8080/"
        },
        "outputId": "34605d49-5e7e-49d5-ffae-3417c992d2d9"
      },
      "outputs": [
        {
          "output_type": "execute_result",
          "data": {
            "text/plain": [
              "array([[0.61772243, 0.16398836, 0.43304264, 0.79415395, 0.57052114],\n",
              "       [0.99632823, 0.22004149, 0.99387501, 0.97033486, 1.        ],\n",
              "       [0.44173778, 0.13871475, 0.63585224, 0.63830515, 0.1711947 ],\n",
              "       [0.21077067, 0.50707747, 0.45326063, 0.20355663, 0.53786428],\n",
              "       [0.31912048, 0.22280827, 0.22445624, 0.        , 0.22261555]])"
            ]
          },
          "metadata": {},
          "execution_count": 96
        }
      ],
      "source": [
        "a = np.random.random((5,5))\n",
        "amin , amax = a.min(), a.max()\n",
        "a = (a-amin)/(amax-amin)\n",
        "a"
      ]
    },
    {
      "cell_type": "markdown",
      "metadata": {
        "id": "u0bDJSJb5q19"
      },
      "source": [
        "#### 23. Create a custom dtype that describes a color as four unsigned bytes (RGBA) (★☆☆) \n",
        "(**hint**: np.dtype)"
      ]
    },
    {
      "cell_type": "code",
      "execution_count": null,
      "metadata": {
        "collapsed": true,
        "id": "V6SAimGZ5q19",
        "colab": {
          "base_uri": "https://localhost:8080/"
        },
        "outputId": "f03efa6e-0934-4bae-d100-51d8b0f99ba0"
      },
      "outputs": [
        {
          "output_type": "stream",
          "name": "stderr",
          "text": [
            "/usr/local/lib/python3.7/dist-packages/ipykernel_launcher.py:4: FutureWarning: Passing (type, 1) or '1type' as a synonym of type is deprecated; in a future version of numpy, it will be understood as (type, (1,)) / '(1,)type'.\n",
            "  after removing the cwd from sys.path.\n"
          ]
        }
      ],
      "source": [
        "color = np.dtype([(\"r\", np.ubyte, 1),\n",
        "                  (\"g\", np.ubyte, 1),\n",
        "                  (\"b\", np.ubyte, 1),\n",
        "                  (\"a\", np.ubyte, 1)])"
      ]
    },
    {
      "cell_type": "markdown",
      "metadata": {
        "id": "d3ElBEU25q1-"
      },
      "source": [
        "#### 24. Multiply a 5x3 matrix by a 3x2 matrix (real matrix product) (★☆☆) \n",
        "(**hint**: np.dot | @)"
      ]
    },
    {
      "cell_type": "code",
      "execution_count": null,
      "metadata": {
        "id": "EeYhLc6D5q1-",
        "colab": {
          "base_uri": "https://localhost:8080/"
        },
        "outputId": "c4cffe7d-0c4c-43c5-b313-d9c4d09dda3a"
      },
      "outputs": [
        {
          "output_type": "execute_result",
          "data": {
            "text/plain": [
              "array([[3., 3.],\n",
              "       [3., 3.],\n",
              "       [3., 3.],\n",
              "       [3., 3.],\n",
              "       [3., 3.]])"
            ]
          },
          "metadata": {},
          "execution_count": 98
        }
      ],
      "source": [
        "a =np.dot(np.ones((5,3)), np.ones((3,2)))\n",
        "a"
      ]
    },
    {
      "cell_type": "markdown",
      "metadata": {
        "id": "5QQYNdTx5q1-"
      },
      "source": [
        "#### 25. Given a 1D array, negate all elements which are between 3 and 8, in place. (★☆☆) \n",
        "(**hint**: >, <=)"
      ]
    },
    {
      "cell_type": "code",
      "execution_count": null,
      "metadata": {
        "id": "oJSpKno75q1-",
        "colab": {
          "base_uri": "https://localhost:8080/"
        },
        "outputId": "d35b3cb1-137d-4a08-b8d6-758092fd9c4a"
      },
      "outputs": [
        {
          "output_type": "execute_result",
          "data": {
            "text/plain": [
              "array([ 0,  1,  2,  3, -4, -5, -6, -7, -8,  9, 10])"
            ]
          },
          "metadata": {},
          "execution_count": 100
        }
      ],
      "source": [
        "a = np.arange(11)\n",
        "a[(3 < a) & (a <=8)] *= -1\n",
        "a"
      ]
    },
    {
      "cell_type": "markdown",
      "metadata": {
        "id": "31p5o0y_5q1-"
      },
      "source": [
        "#### 26. What is the output of the following script? (★☆☆) \n",
        "(**hint**: np.sum)"
      ]
    },
    {
      "cell_type": "markdown",
      "metadata": {
        "id": "-P-AK9IJ5q1-"
      },
      "source": [
        "```python\n",
        "# Author: Jake VanderPlas\n",
        "\n",
        "print(sum(range(5),-1))\n",
        "from numpy import *\n",
        "print(sum(range(5),-1))\n",
        "```"
      ]
    },
    {
      "cell_type": "code",
      "execution_count": null,
      "metadata": {
        "id": "2eElUige5q1-",
        "colab": {
          "base_uri": "https://localhost:8080/"
        },
        "outputId": "d75a8a77-67bd-47ed-c748-519a585e0332"
      },
      "outputs": [
        {
          "output_type": "stream",
          "name": "stdout",
          "text": [
            "9\n",
            "10\n"
          ]
        }
      ],
      "source": [
        "print(sum(range(5),-1))\n",
        "from numpy import *\n",
        "print(sum(range(5),-1))"
      ]
    },
    {
      "cell_type": "markdown",
      "metadata": {
        "id": "vDueE0b75q1-"
      },
      "source": [
        "#### 27. Consider an integer vector Z, which of these expressions are legal? (★☆☆)"
      ]
    },
    {
      "cell_type": "markdown",
      "metadata": {
        "id": "1N3BEwSt5q1-"
      },
      "source": [
        "```python\n",
        "Z**Z \n",
        "2 << Z >> 2\n",
        "Z <- Z\n",
        "1j*Z\n",
        "Z/1/1\n",
        "Z<Z>Z\n",
        "```"
      ]
    },
    {
      "cell_type": "code",
      "execution_count": null,
      "metadata": {
        "id": "xgbxD30C5q1-",
        "colab": {
          "base_uri": "https://localhost:8080/"
        },
        "outputId": "cd60a03b-5750-4a8f-ae9e-9dcd6e5d6217"
      },
      "outputs": [
        {
          "output_type": "execute_result",
          "data": {
            "text/plain": [
              "array([  1,   1,   4,  27, 256])"
            ]
          },
          "metadata": {},
          "execution_count": 110
        }
      ],
      "source": [
        "Z = np.arange(5)\n",
        "Z**Z # legal"
      ]
    },
    {
      "cell_type": "code",
      "source": [
        "Z <- Z # legal"
      ],
      "metadata": {
        "colab": {
          "base_uri": "https://localhost:8080/"
        },
        "id": "ItRQ0kO4PI-R",
        "outputId": "31ad6863-0790-47ac-99f0-89ee792e8031"
      },
      "execution_count": null,
      "outputs": [
        {
          "output_type": "execute_result",
          "data": {
            "text/plain": [
              "array([False, False, False, False, False])"
            ]
          },
          "metadata": {},
          "execution_count": 112
        }
      ]
    },
    {
      "cell_type": "code",
      "source": [
        "1j*Z # legal"
      ],
      "metadata": {
        "colab": {
          "base_uri": "https://localhost:8080/"
        },
        "id": "SYvapFLyPIvy",
        "outputId": "681990e3-a357-41ad-8e7d-e17c69212a51"
      },
      "execution_count": null,
      "outputs": [
        {
          "output_type": "execute_result",
          "data": {
            "text/plain": [
              "array([0.+0.j, 0.+1.j, 0.+2.j, 0.+3.j, 0.+4.j])"
            ]
          },
          "metadata": {},
          "execution_count": 113
        }
      ]
    },
    {
      "cell_type": "code",
      "source": [
        "Z/1/1 # legal"
      ],
      "metadata": {
        "colab": {
          "base_uri": "https://localhost:8080/"
        },
        "id": "HxVUioB5PIi9",
        "outputId": "89e1858e-40da-45eb-f2ab-a8c584b99bfb"
      },
      "execution_count": null,
      "outputs": [
        {
          "output_type": "execute_result",
          "data": {
            "text/plain": [
              "array([0., 1., 2., 3., 4.])"
            ]
          },
          "metadata": {},
          "execution_count": 114
        }
      ]
    },
    {
      "cell_type": "code",
      "source": [
        "Z<Z>Z  # false"
      ],
      "metadata": {
        "colab": {
          "base_uri": "https://localhost:8080/",
          "height": 166
        },
        "id": "95mcxsWMPIF6",
        "outputId": "ed0024df-2e23-4e03-90a9-9f5228c13dbd"
      },
      "execution_count": null,
      "outputs": [
        {
          "output_type": "error",
          "ename": "ValueError",
          "evalue": "ignored",
          "traceback": [
            "\u001b[0;31m---------------------------------------------------------------------------\u001b[0m",
            "\u001b[0;31mValueError\u001b[0m                                Traceback (most recent call last)",
            "\u001b[0;32m<ipython-input-115-6d2bd9eb1fd1>\u001b[0m in \u001b[0;36m<module>\u001b[0;34m\u001b[0m\n\u001b[0;32m----> 1\u001b[0;31m \u001b[0mZ\u001b[0m\u001b[0;34m<\u001b[0m\u001b[0mZ\u001b[0m\u001b[0;34m>\u001b[0m\u001b[0mZ\u001b[0m\u001b[0;34m\u001b[0m\u001b[0;34m\u001b[0m\u001b[0m\n\u001b[0m",
            "\u001b[0;31mValueError\u001b[0m: The truth value of an array with more than one element is ambiguous. Use a.any() or a.all()"
          ]
        }
      ]
    },
    {
      "cell_type": "markdown",
      "metadata": {
        "id": "Om0l3g115q1_"
      },
      "source": [
        "#### 28. What are the result of the following expressions?"
      ]
    },
    {
      "cell_type": "markdown",
      "metadata": {
        "id": "QdwASL-05q1_"
      },
      "source": [
        "```python\n",
        "np.array(0) / np.array(0)\n",
        "np.array(0) // np.array(0)\n",
        "np.array([np.nan]).astype(int).astype(float)\n",
        "```"
      ]
    },
    {
      "cell_type": "code",
      "execution_count": null,
      "metadata": {
        "id": "KdIzAgye5q1_",
        "colab": {
          "base_uri": "https://localhost:8080/"
        },
        "outputId": "0afa976d-100a-4436-d900-746d685c88f9"
      },
      "outputs": [
        {
          "output_type": "stream",
          "name": "stdout",
          "text": [
            "nan\n"
          ]
        },
        {
          "output_type": "stream",
          "name": "stderr",
          "text": [
            "/usr/local/lib/python3.7/dist-packages/ipykernel_launcher.py:1: RuntimeWarning: invalid value encountered in true_divide\n",
            "  \"\"\"Entry point for launching an IPython kernel.\n"
          ]
        }
      ],
      "source": [
        "print(np.array(0) / np.array(0))"
      ]
    },
    {
      "cell_type": "markdown",
      "metadata": {
        "id": "gEOEY1IE5q1_"
      },
      "source": [
        "#### 29. How to round away from zero a float array ? (★☆☆) \n",
        "(**hint**: np.uniform, np.copysign, np.ceil, np.abs)"
      ]
    },
    {
      "cell_type": "code",
      "execution_count": null,
      "metadata": {
        "id": "LmRaURGB5q1_",
        "colab": {
          "base_uri": "https://localhost:8080/"
        },
        "outputId": "2c508baf-7e0e-4154-d4a0-6d252bfac5b3"
      },
      "outputs": [
        {
          "output_type": "stream",
          "name": "stdout",
          "text": [
            "[-3. -6. 10. -6.  5. -1.  1. -7. -1.  4.]\n"
          ]
        }
      ],
      "source": [
        "a = np.random.uniform(-10, +10, 10)\n",
        "print (np.copysign(np.ceil(np.abs(a)), a))"
      ]
    },
    {
      "cell_type": "markdown",
      "metadata": {
        "id": "8vxJW_as5q1_"
      },
      "source": [
        "#### 30. How to find common values between two arrays? (★☆☆) \n",
        "(**hint**: np.intersect1d)"
      ]
    },
    {
      "cell_type": "code",
      "execution_count": null,
      "metadata": {
        "id": "L1ABVcY75q1_",
        "colab": {
          "base_uri": "https://localhost:8080/"
        },
        "outputId": "c497be18-62db-48a9-9244-53e7880a9c55"
      },
      "outputs": [
        {
          "output_type": "stream",
          "name": "stdout",
          "text": [
            "[0 3 4 5 8]\n"
          ]
        }
      ],
      "source": [
        "a = np.random.randint(0,10,10)\n",
        "b = np.random.randint(0,10,10)\n",
        "print(np.intersect1d(a,b))"
      ]
    },
    {
      "cell_type": "markdown",
      "metadata": {
        "id": "Zgohkwbs5q1_"
      },
      "source": [
        "#### 31. How to ignore all numpy warnings (not recommended)? (★☆☆) \n",
        "(**hint**: np.seterr, np.errstate)"
      ]
    },
    {
      "cell_type": "code",
      "execution_count": null,
      "metadata": {
        "id": "dz5p1AV-5q1_"
      },
      "outputs": [],
      "source": [
        "defaults = np.seterr(all=\"ignore\")\n",
        "a = np.ones(1)/0\n",
        "\n",
        "# Back to sanity\n",
        "b = np.seterr(**defaults)"
      ]
    },
    {
      "cell_type": "code",
      "source": [
        "with np.errstate(divide='ignore'):\n",
        "    a = np.ones(1)/0"
      ],
      "metadata": {
        "id": "_wrIZaxrRli7"
      },
      "execution_count": null,
      "outputs": []
    },
    {
      "cell_type": "markdown",
      "metadata": {
        "id": "-RVLLM4C5q1_"
      },
      "source": [
        "#### 32. Is the following expressions true? (★☆☆) \n",
        "(**hint**: imaginary number)"
      ]
    },
    {
      "cell_type": "markdown",
      "metadata": {
        "id": "DOivyers5q1_"
      },
      "source": [
        "```python\n",
        "np.sqrt(-1) == np.emath.sqrt(-1)\n",
        "```"
      ]
    },
    {
      "cell_type": "code",
      "execution_count": null,
      "metadata": {
        "id": "enj-MQML5q2A",
        "colab": {
          "base_uri": "https://localhost:8080/"
        },
        "outputId": "175b30f1-e7ea-49a3-eb64-ab147bd435c1"
      },
      "outputs": [
        {
          "output_type": "stream",
          "name": "stdout",
          "text": [
            "False\n"
          ]
        },
        {
          "output_type": "stream",
          "name": "stderr",
          "text": [
            "/usr/local/lib/python3.7/dist-packages/ipykernel_launcher.py:1: RuntimeWarning: invalid value encountered in sqrt\n",
            "  \"\"\"Entry point for launching an IPython kernel.\n"
          ]
        }
      ],
      "source": [
        "print(np.sqrt(-1) == np.emath.sqrt(-1))"
      ]
    },
    {
      "cell_type": "markdown",
      "metadata": {
        "id": "VdFsXE1d5q2A"
      },
      "source": [
        "#### 33. How to get the dates of yesterday, today and tomorrow? (★☆☆) \n",
        "(**hint**: np.datetime64, np.timedelta64)"
      ]
    },
    {
      "cell_type": "code",
      "execution_count": null,
      "metadata": {
        "collapsed": true,
        "id": "wBke_soI5q2A",
        "colab": {
          "base_uri": "https://localhost:8080/"
        },
        "outputId": "9680baed-74f8-4063-90fa-2da11ab57b1b"
      },
      "outputs": [
        {
          "output_type": "stream",
          "name": "stdout",
          "text": [
            "2022-11-19\n",
            "2022-11-20\n",
            "2022-11-21\n"
          ]
        }
      ],
      "source": [
        "yesterday = np.datetime64('today', 'D') - np.timedelta64(1, 'D')\n",
        "today     = np.datetime64('today', 'D')\n",
        "tomorrow  = np.datetime64('today', 'D') + np.timedelta64(1, 'D')\n",
        "print(yesterday)\n",
        "print(today)\n",
        "print(tomorrow)"
      ]
    },
    {
      "cell_type": "markdown",
      "metadata": {
        "id": "THrgjoqq5q2A"
      },
      "source": [
        "#### 34. How to get all the dates corresponding to the month of July 2016? (★★☆) \n",
        "(**hint**: np.arange(dtype=datetime64\\['D'\\]))"
      ]
    },
    {
      "cell_type": "code",
      "execution_count": null,
      "metadata": {
        "id": "vrax3DSO5q2A",
        "colab": {
          "base_uri": "https://localhost:8080/"
        },
        "outputId": "58d1afe9-a505-4f18-e32f-ae0614b20733"
      },
      "outputs": [
        {
          "output_type": "stream",
          "name": "stdout",
          "text": [
            "['2016-07-01' '2016-07-02' '2016-07-03' '2016-07-04' '2016-07-05'\n",
            " '2016-07-06' '2016-07-07' '2016-07-08' '2016-07-09' '2016-07-10'\n",
            " '2016-07-11' '2016-07-12' '2016-07-13' '2016-07-14' '2016-07-15'\n",
            " '2016-07-16' '2016-07-17' '2016-07-18' '2016-07-19' '2016-07-20'\n",
            " '2016-07-21' '2016-07-22' '2016-07-23' '2016-07-24' '2016-07-25'\n",
            " '2016-07-26' '2016-07-27' '2016-07-28' '2016-07-29' '2016-07-30'\n",
            " '2016-07-31']\n"
          ]
        }
      ],
      "source": [
        "a = np.arange('2016-07', '2016-08', dtype='datetime64[D]')\n",
        "print(a)"
      ]
    },
    {
      "cell_type": "markdown",
      "metadata": {
        "id": "t3AAEFUx5q2A"
      },
      "source": [
        "#### 35. How to compute ((A+B)\\*(-A/2)) in place (without copy)? (★★☆) \n",
        "(**hint**: np.add(out=), np.negative(out=), np.multiply(out=), np.divide(out=))"
      ]
    },
    {
      "cell_type": "code",
      "execution_count": null,
      "metadata": {
        "id": "kTBslhcL5q2A",
        "colab": {
          "base_uri": "https://localhost:8080/"
        },
        "outputId": "cfa1f4af-d8f0-49a0-9e24-8fd0227c72eb"
      },
      "outputs": [
        {
          "output_type": "execute_result",
          "data": {
            "text/plain": [
              "array([-1.5, -1.5, -1.5])"
            ]
          },
          "metadata": {},
          "execution_count": 137
        }
      ],
      "source": [
        "A = np.ones(3)*1\n",
        "B = np.ones(3)*2\n",
        "C = np.ones(3)*3\n",
        "np.add(A,B,out=B)\n",
        "np.negative(A,out=A)\n",
        "np.multiply(A,B,out=A)\n",
        "np.divide(A,2,out=A)"
      ]
    },
    {
      "cell_type": "markdown",
      "metadata": {
        "id": "ggqKZsaH5q2A"
      },
      "source": [
        "#### 36. Extract the integer part of a random array using 5 different methods (★★☆) \n",
        "(**hint**: %, np.floor, np.ceil, astype, np.trunc)"
      ]
    },
    {
      "cell_type": "code",
      "execution_count": null,
      "metadata": {
        "id": "U0pFXicg5q2A",
        "colab": {
          "base_uri": "https://localhost:8080/"
        },
        "outputId": "879ffc47-1354-4f76-dfb5-04e14193a50f"
      },
      "outputs": [
        {
          "output_type": "stream",
          "name": "stdout",
          "text": [
            "[4. 8. 5. 3. 2. 9. 7. 3. 4. 2.]\n",
            "[4. 8. 5. 3. 2. 9. 7. 3. 4. 2.]\n",
            "[4. 8. 5. 3. 2. 9. 7. 3. 4. 2.]\n",
            "[4 8 5 3 2 9 7 3 4 2]\n",
            "[4. 8. 5. 3. 2. 9. 7. 3. 4. 2.]\n"
          ]
        }
      ],
      "source": [
        "a = np.random.uniform(0,10,10)\n",
        "\n",
        "print (a-a%1)\n",
        "print (np.floor(a))\n",
        "print (np.ceil(a)-1)\n",
        "print (a.astype(int))\n",
        "print (np.trunc(a))"
      ]
    },
    {
      "cell_type": "markdown",
      "metadata": {
        "id": "2WmCVYuA5q2A"
      },
      "source": [
        "#### 37. Create a 5x5 matrix with row values ranging from 0 to 4 (★★☆) \n",
        "(**hint**: np.arange)"
      ]
    },
    {
      "cell_type": "code",
      "execution_count": null,
      "metadata": {
        "id": "-TKKaN9X5q2A",
        "colab": {
          "base_uri": "https://localhost:8080/"
        },
        "outputId": "a5f870b6-f300-424b-a4eb-2c70d8ef9788"
      },
      "outputs": [
        {
          "output_type": "execute_result",
          "data": {
            "text/plain": [
              "array([0, 1, 2, 3, 4])"
            ]
          },
          "metadata": {},
          "execution_count": 141
        }
      ],
      "source": [
        "a = np.zeros((5,5))\n",
        "a = np.arange(5)\n",
        "a"
      ]
    },
    {
      "cell_type": "markdown",
      "metadata": {
        "id": "NkudUzdB5q2A"
      },
      "source": [
        "#### 38. Consider a generator function that generates 10 integers and use it to build an array (★☆☆) \n",
        "(**hint**: np.fromiter)"
      ]
    },
    {
      "cell_type": "code",
      "execution_count": null,
      "metadata": {
        "id": "4ie0zYdJ5q2B",
        "colab": {
          "base_uri": "https://localhost:8080/"
        },
        "outputId": "80543276-3ea6-499f-dc43-ebec18bfb0ac"
      },
      "outputs": [
        {
          "output_type": "stream",
          "name": "stdout",
          "text": [
            "[0 1 2 3 4 5 6 7 8 9]\n"
          ]
        }
      ],
      "source": [
        "def generate():\n",
        "    for x in range(10):\n",
        "        yield x\n",
        "a = np.fromiter(generate(), dtype = int)\n",
        "print(a)"
      ]
    },
    {
      "cell_type": "markdown",
      "metadata": {
        "id": "SxmRO0SK5q2B"
      },
      "source": [
        "#### 39. Create a vector of size 10 with values ranging from 0 to 1, both excluded (★★☆) \n",
        "(**hint**: np.linspace)"
      ]
    },
    {
      "cell_type": "code",
      "execution_count": null,
      "metadata": {
        "id": "tVGz-R_q5q2B",
        "colab": {
          "base_uri": "https://localhost:8080/"
        },
        "outputId": "19679801-250c-4f91-e65f-84308dcc212e"
      },
      "outputs": [
        {
          "output_type": "stream",
          "name": "stdout",
          "text": [
            "[0.09090909 0.18181818 0.27272727 0.36363636 0.45454545 0.54545455\n",
            " 0.63636364 0.72727273 0.81818182 0.90909091]\n"
          ]
        }
      ],
      "source": [
        "a = np.linspace(0,1,11,endpoint=False)[1:]\n",
        "print(a)"
      ]
    },
    {
      "cell_type": "markdown",
      "metadata": {
        "id": "5EwS-aPZ5q2B"
      },
      "source": [
        "#### 40. Create a random vector of size 10 and sort it (★★☆) \n",
        "(**hint**: sort)"
      ]
    },
    {
      "cell_type": "code",
      "execution_count": null,
      "metadata": {
        "id": "t4VVbBCn5q2B",
        "colab": {
          "base_uri": "https://localhost:8080/"
        },
        "outputId": "e6caa650-4a57-4bce-9da0-5398683f0078"
      },
      "outputs": [
        {
          "output_type": "execute_result",
          "data": {
            "text/plain": [
              "array([0.09569277, 0.16420074, 0.29391163, 0.54144848, 0.59196277,\n",
              "       0.61369137, 0.66301536, 0.75353067, 0.91164636, 0.95095364])"
            ]
          },
          "metadata": {},
          "execution_count": 146
        }
      ],
      "source": [
        "a = np.random.random(10)\n",
        "a.sort()\n",
        "a"
      ]
    },
    {
      "cell_type": "markdown",
      "metadata": {
        "id": "8SAbSH6y5q2B"
      },
      "source": [
        "#### 41. How to sum a small array faster than np.sum? (★★☆) \n",
        "(**hint**: np.add.reduce)"
      ]
    },
    {
      "cell_type": "code",
      "execution_count": null,
      "metadata": {
        "id": "oIZzyfto5q2B",
        "colab": {
          "base_uri": "https://localhost:8080/"
        },
        "outputId": "11fa6e3a-eee7-4a29-bedf-4a01aa48bc25"
      },
      "outputs": [
        {
          "output_type": "execute_result",
          "data": {
            "text/plain": [
              "28"
            ]
          },
          "metadata": {},
          "execution_count": 147
        }
      ],
      "source": [
        "a = np.arange(8)\n",
        "np.add.reduce(a)"
      ]
    },
    {
      "cell_type": "markdown",
      "metadata": {
        "id": "6uRhpdpx5q2B"
      },
      "source": [
        "#### 42. Consider two random array A and B, check if they are equal (★★☆) \n",
        "(**hint**: np.allclose, np.array\\_equal)"
      ]
    },
    {
      "cell_type": "code",
      "execution_count": null,
      "metadata": {
        "id": "I0xwbJa05q2B",
        "colab": {
          "base_uri": "https://localhost:8080/"
        },
        "outputId": "29de3a18-a9b1-4958-f5c2-48ee14f0e7b9"
      },
      "outputs": [
        {
          "output_type": "stream",
          "name": "stdout",
          "text": [
            "False\n"
          ]
        }
      ],
      "source": [
        "a = np.random.randint(0,2,5)\n",
        "b = np.random.randint(0,2,5)\n",
        "\n",
        "\n",
        "equal = np.allclose(a,b)\n",
        "print(equal)"
      ]
    },
    {
      "cell_type": "code",
      "source": [
        "equal = np.array_equal(a,b)\n",
        "print(equal)"
      ],
      "metadata": {
        "colab": {
          "base_uri": "https://localhost:8080/"
        },
        "id": "GY-Sc18vTkmF",
        "outputId": "e793b088-55c3-490c-f187-763d6044fb7e"
      },
      "execution_count": null,
      "outputs": [
        {
          "output_type": "stream",
          "name": "stdout",
          "text": [
            "False\n"
          ]
        }
      ]
    },
    {
      "cell_type": "markdown",
      "metadata": {
        "id": "CCQtkCYR5q2B"
      },
      "source": [
        "#### 43. Make an array immutable (read-only) (★★☆) \n",
        "(**hint**: flags.writeable)"
      ]
    },
    {
      "cell_type": "code",
      "execution_count": null,
      "metadata": {
        "id": "lc8PC_No5q2C"
      },
      "outputs": [],
      "source": [
        "a = np.zeros(10)\n",
        "a.flags.writeable = False\n",
        "a[0] = 1"
      ]
    },
    {
      "cell_type": "markdown",
      "metadata": {
        "id": "cugW4Ejw5q2C"
      },
      "source": [
        "#### 44. Consider a random 10x2 matrix representing cartesian coordinates, convert them to polar coordinates (★★☆) \n",
        "(**hint**: np.sqrt, np.arctan2)"
      ]
    },
    {
      "cell_type": "code",
      "execution_count": null,
      "metadata": {
        "id": "o0MY49jA5q2C",
        "colab": {
          "base_uri": "https://localhost:8080/"
        },
        "outputId": "bc726439-5792-4b8f-8044-c7028687a6ba"
      },
      "outputs": [
        {
          "output_type": "stream",
          "name": "stdout",
          "text": [
            "[1.09067544 0.65743124 0.59235041 0.53060149 0.60694136 1.17547666\n",
            " 0.7117274  1.2109709  0.94760735 0.89126064]\n",
            "[1.14999279 1.02966846 0.84459548 1.23583893 0.18303241 1.0130659\n",
            " 0.18261486 0.79015792 1.1815516  0.87969902]\n"
          ]
        }
      ],
      "source": [
        "a = np.random.random((10,2))\n",
        "X,Y = a[:,0], a[:,1]\n",
        "R = np.sqrt(X**2+Y**2)\n",
        "T = np.arctan2(Y,X)\n",
        "print(R)\n",
        "print(T)"
      ]
    },
    {
      "cell_type": "markdown",
      "metadata": {
        "id": "iphiHrDH5q2C"
      },
      "source": [
        "#### 45. Create random vector of size 10 and replace the maximum value by 0 (★★☆) \n",
        "(**hint**: argmax)"
      ]
    },
    {
      "cell_type": "code",
      "execution_count": null,
      "metadata": {
        "id": "CYVbsJjO5q2C",
        "colab": {
          "base_uri": "https://localhost:8080/"
        },
        "outputId": "b28287c8-4b4f-4bf5-bc56-9a65f5cdf6da"
      },
      "outputs": [
        {
          "output_type": "stream",
          "name": "stdout",
          "text": [
            "[0.41917493 0.43015213 0.         0.65844184 0.83902463 0.27613378\n",
            " 0.06014684 0.89533392 0.0111676  0.43389714]\n"
          ]
        }
      ],
      "source": [
        "a = np.random.random(10)\n",
        "a[a.argmax()] = 0\n",
        "print(a)"
      ]
    },
    {
      "cell_type": "markdown",
      "metadata": {
        "id": "T1t5bcrs5q2C"
      },
      "source": [
        "#### 46. Create a structured array with `x` and `y` coordinates covering the \\[0,1\\]x\\[0,1\\] area (★★☆) \n",
        "(**hint**: np.meshgrid)"
      ]
    },
    {
      "cell_type": "code",
      "execution_count": null,
      "metadata": {
        "id": "qjfIv0-45q2C",
        "colab": {
          "base_uri": "https://localhost:8080/"
        },
        "outputId": "e06e101b-70a3-478b-c548-ddab4250c6ec"
      },
      "outputs": [
        {
          "output_type": "stream",
          "name": "stdout",
          "text": [
            "[[(0.  , 0.  ) (0.25, 0.  ) (0.5 , 0.  ) (0.75, 0.  ) (1.  , 0.  )]\n",
            " [(0.  , 0.25) (0.25, 0.25) (0.5 , 0.25) (0.75, 0.25) (1.  , 0.25)]\n",
            " [(0.  , 0.5 ) (0.25, 0.5 ) (0.5 , 0.5 ) (0.75, 0.5 ) (1.  , 0.5 )]\n",
            " [(0.  , 0.75) (0.25, 0.75) (0.5 , 0.75) (0.75, 0.75) (1.  , 0.75)]\n",
            " [(0.  , 1.  ) (0.25, 1.  ) (0.5 , 1.  ) (0.75, 1.  ) (1.  , 1.  )]]\n"
          ]
        }
      ],
      "source": [
        "a = np.zeros((5,5), [('x',float),('y',float)])\n",
        "a['x'], a['y'] = np.meshgrid(np.linspace(0,1,5),\n",
        "                             np.linspace(0,1,5))\n",
        "print(a)"
      ]
    },
    {
      "cell_type": "markdown",
      "metadata": {
        "id": "DEmWAyNM5q2C"
      },
      "source": [
        "####  47. Given two arrays, X and Y, construct the Cauchy matrix C (Cij =1/(xi - yj)) \n",
        "(**hint**: np.subtract.outer)"
      ]
    },
    {
      "cell_type": "code",
      "execution_count": null,
      "metadata": {
        "id": "1xol_xJP5q2C",
        "colab": {
          "base_uri": "https://localhost:8080/"
        },
        "outputId": "756b2577-14d6-4ea6-a6ce-b343c28ebdc3"
      },
      "outputs": [
        {
          "output_type": "stream",
          "name": "stdout",
          "text": [
            "3638.163637117973\n"
          ]
        }
      ],
      "source": [
        "a = np.arange(8)\n",
        "b = a + 0.5\n",
        "c = 1.0 / np.subtract.outer(a, b)\n",
        "print(np.linalg.det(c))\n"
      ]
    },
    {
      "cell_type": "markdown",
      "metadata": {
        "id": "8yM9P8Nv5q2D"
      },
      "source": [
        "#### 48. Print the minimum and maximum representable value for each numpy scalar type (★★☆) \n",
        "(**hint**: np.iinfo, np.finfo, eps)"
      ]
    },
    {
      "cell_type": "code",
      "execution_count": null,
      "metadata": {
        "id": "k25MTvbx5q2D",
        "colab": {
          "base_uri": "https://localhost:8080/"
        },
        "outputId": "2111a613-1ca8-4e35-959d-c0f4a591de57"
      },
      "outputs": [
        {
          "output_type": "stream",
          "name": "stdout",
          "text": [
            "-128\n",
            "127\n",
            "-2147483648\n",
            "2147483647\n",
            "-9223372036854775808\n",
            "9223372036854775807\n",
            "-3.4028235e+38\n",
            "3.4028235e+38\n",
            "1.1920929e-07\n",
            "-1.7976931348623157e+308\n",
            "1.7976931348623157e+308\n",
            "2.220446049250313e-16\n"
          ]
        }
      ],
      "source": [
        "for dtype in [np.int8, np.int32, np.int64]:\n",
        "   print(np.iinfo(dtype).min)\n",
        "   print(np.iinfo(dtype).max)\n",
        "for dtype in [np.float32, np.float64]:\n",
        "   print(np.finfo(dtype).min)\n",
        "   print(np.finfo(dtype).max)\n",
        "   print(np.finfo(dtype).eps)"
      ]
    },
    {
      "cell_type": "markdown",
      "metadata": {
        "id": "79KgF48Q5q2D"
      },
      "source": [
        "#### 49. How to print all the values of an array? (★★☆) \n",
        "(**hint**: np.set\\_printoptions)"
      ]
    },
    {
      "cell_type": "code",
      "execution_count": null,
      "metadata": {
        "id": "93U39a6-5q2D",
        "colab": {
          "base_uri": "https://localhost:8080/",
          "height": 363
        },
        "outputId": "41a99e7d-92d3-46ad-8ed7-ebd776a588fa"
      },
      "outputs": [
        {
          "output_type": "error",
          "ename": "ValueError",
          "evalue": "ignored",
          "traceback": [
            "\u001b[0;31m---------------------------------------------------------------------------\u001b[0m",
            "\u001b[0;31mValueError\u001b[0m                                Traceback (most recent call last)",
            "\u001b[0;32m<ipython-input-159-b156af70c14d>\u001b[0m in \u001b[0;36m<module>\u001b[0;34m\u001b[0m\n\u001b[0;32m----> 1\u001b[0;31m \u001b[0mnp\u001b[0m\u001b[0;34m.\u001b[0m\u001b[0mset_printoptions\u001b[0m\u001b[0;34m(\u001b[0m\u001b[0mthreshold\u001b[0m\u001b[0;34m=\u001b[0m\u001b[0mnp\u001b[0m\u001b[0;34m.\u001b[0m\u001b[0mnan\u001b[0m\u001b[0;34m)\u001b[0m\u001b[0;34m\u001b[0m\u001b[0;34m\u001b[0m\u001b[0m\n\u001b[0m\u001b[1;32m      2\u001b[0m \u001b[0mZ\u001b[0m \u001b[0;34m=\u001b[0m \u001b[0mnp\u001b[0m\u001b[0;34m.\u001b[0m\u001b[0mzeros\u001b[0m\u001b[0;34m(\u001b[0m\u001b[0;34m(\u001b[0m\u001b[0;36m25\u001b[0m\u001b[0;34m,\u001b[0m\u001b[0;36m25\u001b[0m\u001b[0;34m)\u001b[0m\u001b[0;34m)\u001b[0m\u001b[0;34m\u001b[0m\u001b[0;34m\u001b[0m\u001b[0m\n\u001b[1;32m      3\u001b[0m \u001b[0mprint\u001b[0m\u001b[0;34m(\u001b[0m\u001b[0mZ\u001b[0m\u001b[0;34m)\u001b[0m\u001b[0;34m\u001b[0m\u001b[0;34m\u001b[0m\u001b[0m\n",
            "\u001b[0;32m/usr/local/lib/python3.7/dist-packages/numpy/core/arrayprint.py\u001b[0m in \u001b[0;36mset_printoptions\u001b[0;34m(precision, threshold, edgeitems, linewidth, suppress, nanstr, infstr, formatter, sign, floatmode, legacy)\u001b[0m\n\u001b[1;32m    252\u001b[0m     opt = _make_options_dict(precision, threshold, edgeitems, linewidth,\n\u001b[1;32m    253\u001b[0m                              \u001b[0msuppress\u001b[0m\u001b[0;34m,\u001b[0m \u001b[0mnanstr\u001b[0m\u001b[0;34m,\u001b[0m \u001b[0minfstr\u001b[0m\u001b[0;34m,\u001b[0m \u001b[0msign\u001b[0m\u001b[0;34m,\u001b[0m \u001b[0mformatter\u001b[0m\u001b[0;34m,\u001b[0m\u001b[0;34m\u001b[0m\u001b[0;34m\u001b[0m\u001b[0m\n\u001b[0;32m--> 254\u001b[0;31m                              floatmode, legacy)\n\u001b[0m\u001b[1;32m    255\u001b[0m     \u001b[0;31m# formatter is always reset\u001b[0m\u001b[0;34m\u001b[0m\u001b[0;34m\u001b[0m\u001b[0;34m\u001b[0m\u001b[0m\n\u001b[1;32m    256\u001b[0m     \u001b[0mopt\u001b[0m\u001b[0;34m[\u001b[0m\u001b[0;34m'formatter'\u001b[0m\u001b[0;34m]\u001b[0m \u001b[0;34m=\u001b[0m \u001b[0mformatter\u001b[0m\u001b[0;34m\u001b[0m\u001b[0;34m\u001b[0m\u001b[0m\n",
            "\u001b[0;32m/usr/local/lib/python3.7/dist-packages/numpy/core/arrayprint.py\u001b[0m in \u001b[0;36m_make_options_dict\u001b[0;34m(precision, threshold, edgeitems, linewidth, suppress, nanstr, infstr, sign, formatter, floatmode, legacy)\u001b[0m\n\u001b[1;32m     86\u001b[0m             \u001b[0;32mraise\u001b[0m \u001b[0mTypeError\u001b[0m\u001b[0;34m(\u001b[0m\u001b[0;34m\"threshold must be numeric\"\u001b[0m\u001b[0;34m)\u001b[0m\u001b[0;34m\u001b[0m\u001b[0;34m\u001b[0m\u001b[0m\n\u001b[1;32m     87\u001b[0m         \u001b[0;32mif\u001b[0m \u001b[0mnp\u001b[0m\u001b[0;34m.\u001b[0m\u001b[0misnan\u001b[0m\u001b[0;34m(\u001b[0m\u001b[0mthreshold\u001b[0m\u001b[0;34m)\u001b[0m\u001b[0;34m:\u001b[0m\u001b[0;34m\u001b[0m\u001b[0;34m\u001b[0m\u001b[0m\n\u001b[0;32m---> 88\u001b[0;31m             raise ValueError(\"threshold must be non-NAN, try \"\n\u001b[0m\u001b[1;32m     89\u001b[0m                              \"sys.maxsize for untruncated representation\")\n\u001b[1;32m     90\u001b[0m \u001b[0;34m\u001b[0m\u001b[0m\n",
            "\u001b[0;31mValueError\u001b[0m: threshold must be non-NAN, try sys.maxsize for untruncated representation"
          ]
        }
      ],
      "source": [
        "np.set_printoptions(threshold=np.nan)\n",
        "Z = np.zeros((25,25))\n",
        "print(Z)"
      ]
    },
    {
      "cell_type": "markdown",
      "metadata": {
        "id": "xas5oxru5q2D"
      },
      "source": [
        "#### 50. How to find the closest value (to a given scalar) in a vector? (★★☆) \n",
        "(**hint**: argmin)"
      ]
    },
    {
      "cell_type": "code",
      "execution_count": null,
      "metadata": {
        "id": "ify4lX7B5q2D",
        "colab": {
          "base_uri": "https://localhost:8080/"
        },
        "outputId": "93ad5452-3e84-4c52-d383-140bd14d823e"
      },
      "outputs": [
        {
          "output_type": "stream",
          "name": "stdout",
          "text": [
            "56\n"
          ]
        }
      ],
      "source": [
        "a = np.arange(100)\n",
        "b = np.random.uniform(0,100)\n",
        "index = (np.abs(a-b)).argmin()\n",
        "print(a[index])"
      ]
    },
    {
      "cell_type": "markdown",
      "metadata": {
        "id": "MBdtpDJb5q2D"
      },
      "source": [
        "#### 51. Create a structured array representing a position (x,y) and a color (r,g,b) (★★☆) \n",
        "(**hint**: dtype)"
      ]
    },
    {
      "cell_type": "code",
      "execution_count": null,
      "metadata": {
        "id": "t3x2_DWo5q2D",
        "colab": {
          "base_uri": "https://localhost:8080/"
        },
        "outputId": "dee92405-0d9d-4b5a-ed04-bbc729149032"
      },
      "outputs": [
        {
          "output_type": "stream",
          "name": "stdout",
          "text": [
            "[((0., 0.), (0., 0., 0.)) ((0., 0.), (0., 0., 0.))\n",
            " ((0., 0.), (0., 0., 0.)) ((0., 0.), (0., 0., 0.))\n",
            " ((0., 0.), (0., 0., 0.)) ((0., 0.), (0., 0., 0.))\n",
            " ((0., 0.), (0., 0., 0.)) ((0., 0.), (0., 0., 0.))\n",
            " ((0., 0.), (0., 0., 0.)) ((0., 0.), (0., 0., 0.))]\n"
          ]
        },
        {
          "output_type": "stream",
          "name": "stderr",
          "text": [
            "/usr/local/lib/python3.7/dist-packages/ipykernel_launcher.py:5: FutureWarning: Passing (type, 1) or '1type' as a synonym of type is deprecated; in a future version of numpy, it will be understood as (type, (1,)) / '(1,)type'.\n",
            "  \"\"\"\n"
          ]
        }
      ],
      "source": [
        "a = np.zeros(10, [ ('position', [ ('x', float, 1),\n",
        "                                  ('y', float, 1)]),\n",
        "                   ('color',    [ ('r', float, 1),\n",
        "                                  ('g', float, 1),\n",
        "                                  ('b', float, 1)])])\n",
        "print(a)"
      ]
    },
    {
      "cell_type": "markdown",
      "metadata": {
        "id": "fRbyKcno5q2D"
      },
      "source": [
        "#### 52. Consider a random vector with shape (100,2) representing coordinates, find point by point distances (★★☆) \n",
        "(**hint**: np.atleast\\_2d, T, np.sqrt)"
      ]
    },
    {
      "cell_type": "code",
      "execution_count": null,
      "metadata": {
        "id": "madaYTIg5q2H",
        "colab": {
          "base_uri": "https://localhost:8080/"
        },
        "outputId": "07d28b7f-162f-4a6b-ff9a-2f735b72e0e9"
      },
      "outputs": [
        {
          "output_type": "stream",
          "name": "stdout",
          "text": [
            "[[0.         0.40118542 0.77413388 0.82440999 0.08013312 0.61709703\n",
            "  0.61588989 0.09358843 0.82098832 1.089532  ]\n",
            " [0.40118542 0.         0.43728813 0.48683643 0.33715487 0.23287782\n",
            "  0.22546523 0.3088205  0.7880797  0.81080877]\n",
            " [0.77413388 0.43728813 0.         0.0507722  0.69528444 0.43039478\n",
            "  0.24622471 0.69631233 0.64272065 0.38836698]\n",
            " [0.82440999 0.48683643 0.0507722  0.         0.7454224  0.46799946\n",
            "  0.28957087 0.74695646 0.65482459 0.34806265]\n",
            " [0.08013312 0.33715487 0.69528444 0.7454224  0.         0.5616104\n",
            "  0.54460801 0.06281416 0.75915341 1.00965928]\n",
            " [0.61709703 0.23287782 0.43039478 0.46799946 0.5616104  0.\n",
            "  0.19288862 0.52357143 0.9477827  0.8160614 ]\n",
            " [0.61588989 0.22546523 0.24622471 0.28957087 0.54460801 0.19288862\n",
            "  0.         0.52659427 0.77201142 0.63457763]\n",
            " [0.09358843 0.3088205  0.69631233 0.74695646 0.06281416 0.52357143\n",
            "  0.52659427 0.         0.80865953 1.02665771]\n",
            " [0.82098832 0.7880797  0.64272065 0.65482459 0.75915341 0.9477827\n",
            "  0.77201142 0.80865953 0.         0.60395961]\n",
            " [1.089532   0.81080877 0.38836698 0.34806265 1.00965928 0.8160614\n",
            "  0.63457763 1.02665771 0.60395961 0.        ]]\n"
          ]
        }
      ],
      "source": [
        "Z = np.random.random((10,2))\n",
        "X,Y = np.atleast_2d(Z[:,0], Z[:,1])\n",
        "D = np.sqrt((X-X.T)**2 + (Y-Y.T)**2)\n",
        "print(D)"
      ]
    },
    {
      "cell_type": "markdown",
      "metadata": {
        "id": "q1ssSvA65q2H"
      },
      "source": [
        "#### 53. How to convert a float (32 bits) array into an integer (32 bits) in place? \n",
        "(**hint**: astype(copy=False))"
      ]
    },
    {
      "cell_type": "code",
      "execution_count": null,
      "metadata": {
        "id": "f5Vlhosh5q2H",
        "colab": {
          "base_uri": "https://localhost:8080/"
        },
        "outputId": "792fbbb9-cf55-45dd-b683-2eaa3d034eb1"
      },
      "outputs": [
        {
          "output_type": "stream",
          "name": "stdout",
          "text": [
            "[0. 1. 2. 3. 4. 5. 6. 7. 8. 9.]\n"
          ]
        }
      ],
      "source": [
        "a = np.arange(10, dtype=np.int32)\n",
        "a = a.astype(np.float32, copy=False)\n",
        "print(a)"
      ]
    },
    {
      "cell_type": "markdown",
      "metadata": {
        "id": "-q715_895q2H"
      },
      "source": [
        "#### 54. How to read the following file? (★★☆) \n",
        "(**hint**: np.genfromtxt)"
      ]
    },
    {
      "cell_type": "markdown",
      "metadata": {
        "id": "I-o8MKDz5q2H"
      },
      "source": [
        "```\n",
        "1, 2, 3, 4, 5\n",
        "6,  ,  , 7, 8\n",
        " ,  , 9,10,11\n",
        "```"
      ]
    },
    {
      "cell_type": "code",
      "execution_count": null,
      "metadata": {
        "id": "OairR10-5q2H",
        "colab": {
          "base_uri": "https://localhost:8080/"
        },
        "outputId": "6598c9d3-922b-4033-931e-339a8bcaf067"
      },
      "outputs": [
        {
          "output_type": "stream",
          "name": "stdout",
          "text": [
            "[[ 1  2  3  4  5]\n",
            " [ 6 -1 -1  7  8]\n",
            " [-1 -1  9 10 11]]\n"
          ]
        },
        {
          "output_type": "stream",
          "name": "stderr",
          "text": [
            "/usr/local/lib/python3.7/dist-packages/ipykernel_launcher.py:5: DeprecationWarning: `np.int` is a deprecated alias for the builtin `int`. To silence this warning, use `int` by itself. Doing this will not modify any behavior and is safe. When replacing `np.int`, you may wish to use e.g. `np.int64` or `np.int32` to specify the precision. If you wish to review your current use, check the release note link for additional information.\n",
            "Deprecated in NumPy 1.20; for more details and guidance: https://numpy.org/devdocs/release/1.20.0-notes.html#deprecations\n",
            "  \"\"\"\n"
          ]
        }
      ],
      "source": [
        "from io import StringIO\n",
        "s = StringIO(\"\"\"1, 2, 3, 4, 5\\n\n",
        "                6,  ,  , 7, 8\\n\n",
        "                 ,  , 9,10,11\\n\"\"\")\n",
        "a = np.genfromtxt(s, delimiter=\",\", dtype=np.int)\n",
        "print(a)"
      ]
    },
    {
      "cell_type": "markdown",
      "metadata": {
        "id": "dMdGo5PD5q2H"
      },
      "source": [
        "#### 55. What is the equivalent of enumerate for numpy arrays? (★★☆) \n",
        "(**hint**: np.ndenumerate, np.ndindex)"
      ]
    },
    {
      "cell_type": "code",
      "execution_count": 3,
      "metadata": {
        "id": "uK-QG5zc5q2I",
        "colab": {
          "base_uri": "https://localhost:8080/"
        },
        "outputId": "eaa47c5b-e565-4c87-aad7-bc50851c338a"
      },
      "outputs": [
        {
          "output_type": "stream",
          "name": "stdout",
          "text": [
            "(0, 0) 0\n",
            "(0, 1) 1\n",
            "(0, 2) 2\n",
            "(1, 0) 3\n",
            "(1, 1) 4\n",
            "(1, 2) 5\n",
            "(2, 0) 6\n",
            "(2, 1) 7\n",
            "(2, 2) 8\n",
            "(0, 0) 0\n",
            "(0, 1) 1\n",
            "(0, 2) 2\n",
            "(1, 0) 3\n",
            "(1, 1) 4\n",
            "(1, 2) 5\n",
            "(2, 0) 6\n",
            "(2, 1) 7\n",
            "(2, 2) 8\n"
          ]
        }
      ],
      "source": [
        "a = np.arange(9).reshape(3,3)\n",
        "for index, value in np.ndenumerate(a):\n",
        "    print (index, value)\n",
        "for index in np.ndindex(a.shape):\n",
        "    print (index, a[index])"
      ]
    },
    {
      "cell_type": "markdown",
      "metadata": {
        "id": "MNZI6FGa5q2I"
      },
      "source": [
        "#### 56. Generate a generic 2D Gaussian-like array (★★☆) \n",
        "(**hint**: np.meshgrid, np.exp)"
      ]
    },
    {
      "cell_type": "code",
      "execution_count": 4,
      "metadata": {
        "id": "rcygP8ry5q2I",
        "colab": {
          "base_uri": "https://localhost:8080/"
        },
        "outputId": "2483fd7f-0573-47f5-8612-75be32fc6fcd"
      },
      "outputs": [
        {
          "output_type": "stream",
          "name": "stdout",
          "text": [
            "[[0.36787944 0.44822088 0.51979489 0.57375342 0.60279818 0.60279818\n",
            "  0.57375342 0.51979489 0.44822088 0.36787944]\n",
            " [0.44822088 0.54610814 0.63331324 0.69905581 0.73444367 0.73444367\n",
            "  0.69905581 0.63331324 0.54610814 0.44822088]\n",
            " [0.51979489 0.63331324 0.73444367 0.81068432 0.85172308 0.85172308\n",
            "  0.81068432 0.73444367 0.63331324 0.51979489]\n",
            " [0.57375342 0.69905581 0.81068432 0.89483932 0.9401382  0.9401382\n",
            "  0.89483932 0.81068432 0.69905581 0.57375342]\n",
            " [0.60279818 0.73444367 0.85172308 0.9401382  0.98773022 0.98773022\n",
            "  0.9401382  0.85172308 0.73444367 0.60279818]\n",
            " [0.60279818 0.73444367 0.85172308 0.9401382  0.98773022 0.98773022\n",
            "  0.9401382  0.85172308 0.73444367 0.60279818]\n",
            " [0.57375342 0.69905581 0.81068432 0.89483932 0.9401382  0.9401382\n",
            "  0.89483932 0.81068432 0.69905581 0.57375342]\n",
            " [0.51979489 0.63331324 0.73444367 0.81068432 0.85172308 0.85172308\n",
            "  0.81068432 0.73444367 0.63331324 0.51979489]\n",
            " [0.44822088 0.54610814 0.63331324 0.69905581 0.73444367 0.73444367\n",
            "  0.69905581 0.63331324 0.54610814 0.44822088]\n",
            " [0.36787944 0.44822088 0.51979489 0.57375342 0.60279818 0.60279818\n",
            "  0.57375342 0.51979489 0.44822088 0.36787944]]\n"
          ]
        }
      ],
      "source": [
        "X, Y = np.meshgrid(np.linspace(-1,1,10), np.linspace(-1,1,10))\n",
        "D = np.sqrt(X*X+Y*Y)\n",
        "sigma, mu = 1.0, 0.0\n",
        "G = np.exp(-( (D-mu)**2/(2.0 * sigma**2)))\n",
        "print (G)"
      ]
    },
    {
      "cell_type": "markdown",
      "metadata": {
        "id": "-XvNpakc5q2I"
      },
      "source": [
        "#### 57. How to randomly place p elements in a 2D array? (★★☆) \n",
        "(**hint**: np.put, np.random.choice)"
      ]
    },
    {
      "cell_type": "code",
      "execution_count": 6,
      "metadata": {
        "id": "Xnx1Hymc5q2I",
        "colab": {
          "base_uri": "https://localhost:8080/"
        },
        "outputId": "37cf5994-d694-4432-a2f9-aeb3127a46a6"
      },
      "outputs": [
        {
          "output_type": "stream",
          "name": "stdout",
          "text": [
            "[[0. 0. 0. 0. 0. 0. 0. 0. 0. 0.]\n",
            " [0. 0. 0. 0. 0. 0. 1. 0. 0. 0.]\n",
            " [0. 0. 0. 0. 0. 0. 0. 0. 0. 0.]\n",
            " [0. 0. 0. 0. 0. 0. 0. 0. 0. 0.]\n",
            " [0. 0. 0. 0. 0. 0. 0. 0. 0. 0.]\n",
            " [0. 0. 1. 0. 0. 0. 0. 0. 0. 0.]\n",
            " [0. 0. 0. 0. 0. 0. 0. 0. 0. 0.]\n",
            " [0. 0. 0. 0. 0. 0. 0. 0. 0. 1.]\n",
            " [0. 0. 0. 0. 0. 0. 0. 0. 0. 0.]\n",
            " [0. 0. 0. 0. 0. 0. 0. 0. 0. 0.]]\n"
          ]
        }
      ],
      "source": [
        "n = 10\n",
        "p = 3\n",
        "Z = np.zeros((n,n))\n",
        "np.put(Z, np.random.choice(range(n*n), p, replace=False),1)\n",
        "print(Z)"
      ]
    },
    {
      "cell_type": "markdown",
      "metadata": {
        "id": "1ODhtgft5q2I"
      },
      "source": [
        "#### 58. Subtract the mean of each row of a matrix (★★☆) \n",
        "(**hint**: mean(axis=,keepdims=))"
      ]
    },
    {
      "cell_type": "code",
      "execution_count": 7,
      "metadata": {
        "id": "z4cayvdZ5q2I",
        "colab": {
          "base_uri": "https://localhost:8080/"
        },
        "outputId": "f8caecc7-cb75-4333-991a-6ff9952733e7"
      },
      "outputs": [
        {
          "output_type": "stream",
          "name": "stdout",
          "text": [
            "[[ 0.21869203 -0.31827487  0.43677344  0.53384099 -0.28094468 -0.035737\n",
            "   0.39095125 -0.31920805 -0.2434545  -0.38263861]\n",
            " [-0.25093523 -0.27522043  0.36986777 -0.16098193  0.38372878 -0.02018234\n",
            "   0.29244131 -0.14865332 -0.08361566 -0.10644896]\n",
            " [-0.13201355 -0.04618561 -0.59455094  0.03887629  0.04422308 -0.14110565\n",
            "   0.07341557  0.15402421  0.33038839  0.27292822]\n",
            " [ 0.06018655 -0.55018319  0.00931433  0.15465747 -0.42899236  0.35498922\n",
            "  -0.13429438  0.37970059  0.29003185 -0.13541009]\n",
            " [ 0.30803855 -0.30289772 -0.26824083  0.3553245  -0.46333924 -0.01468749\n",
            "  -0.06034105 -0.19019847  0.20147267  0.43486907]]\n"
          ]
        }
      ],
      "source": [
        "X = np.random.rand(5, 10)\n",
        "Y = X-X.mean(axis=1, keepdims=True)\n",
        "print(Y)"
      ]
    },
    {
      "cell_type": "markdown",
      "metadata": {
        "id": "2k6quKEZ5q2I"
      },
      "source": [
        "#### 59. How to sort an array by the nth column? (★★☆) \n",
        "(**hint**: argsort)"
      ]
    },
    {
      "cell_type": "code",
      "execution_count": 8,
      "metadata": {
        "id": "QrRHUWGC5q2I",
        "colab": {
          "base_uri": "https://localhost:8080/"
        },
        "outputId": "abfc3951-aa15-4623-d367-35d2237a7835"
      },
      "outputs": [
        {
          "output_type": "stream",
          "name": "stdout",
          "text": [
            "[[2 1 4]\n",
            " [5 2 6]\n",
            " [2 8 5]]\n",
            "[[2 1 4]\n",
            " [5 2 6]\n",
            " [2 8 5]]\n"
          ]
        }
      ],
      "source": [
        "a = np.random.randint(0,10,(3,3))\n",
        "print (a)\n",
        "print (a[a[:,1].argsort()])"
      ]
    },
    {
      "cell_type": "markdown",
      "metadata": {
        "id": "akyBN9qO5q2I"
      },
      "source": [
        "#### 60. How to tell if a given 2D array has null columns? (★★☆) \n",
        "(**hint**: any, ~)"
      ]
    },
    {
      "cell_type": "code",
      "execution_count": 9,
      "metadata": {
        "id": "ToSdPyBf5q2I",
        "colab": {
          "base_uri": "https://localhost:8080/"
        },
        "outputId": "d38d06a6-7c29-48d9-9418-e3dac20119ef"
      },
      "outputs": [
        {
          "output_type": "stream",
          "name": "stdout",
          "text": [
            "False\n"
          ]
        }
      ],
      "source": [
        "a = np.random.randint(0,3,(3,10))\n",
        "print ((~a.any(axis=0)).any())"
      ]
    },
    {
      "cell_type": "markdown",
      "metadata": {
        "id": "u-VfLZ5G5q2I"
      },
      "source": [
        "#### 61. Find the nearest value from a given value in an array (★★☆) \n",
        "(**hint**: np.abs, argmin, flat)"
      ]
    },
    {
      "cell_type": "code",
      "execution_count": 10,
      "metadata": {
        "id": "L1fRNYOP5q2J",
        "colab": {
          "base_uri": "https://localhost:8080/"
        },
        "outputId": "d6cca0f1-317d-47bb-c82e-36569c725b3d"
      },
      "outputs": [
        {
          "output_type": "stream",
          "name": "stdout",
          "text": [
            "0.510297459279873\n"
          ]
        }
      ],
      "source": [
        "a = np.random.uniform(0,1,10)\n",
        "b = 0.5\n",
        "m = a.flat[np.abs(a-b).argmin()]\n",
        "print (m)"
      ]
    },
    {
      "cell_type": "markdown",
      "metadata": {
        "id": "uyW_3C6j5q2J"
      },
      "source": [
        "#### 62. Considering two arrays with shape (1,3) and (3,1), how to compute their sum using an iterator? (★★☆) \n",
        "(**hint**: np.nditer)"
      ]
    },
    {
      "cell_type": "code",
      "execution_count": 11,
      "metadata": {
        "id": "vrvQnBJj5q2J",
        "colab": {
          "base_uri": "https://localhost:8080/"
        },
        "outputId": "c3d9c294-86f5-4bc3-cf2e-db23ef2e21ac"
      },
      "outputs": [
        {
          "output_type": "stream",
          "name": "stdout",
          "text": [
            "[[0 1 2]\n",
            " [1 2 3]\n",
            " [2 3 4]]\n"
          ]
        }
      ],
      "source": [
        "A = np.arange(3).reshape(3,1)\n",
        "B = np.arange(3).reshape(1,3)\n",
        "it = np.nditer([A,B,None])\n",
        "for x,y,z in it: \n",
        "    z[...] = x + y\n",
        "print (it.operands[2])"
      ]
    },
    {
      "cell_type": "markdown",
      "metadata": {
        "id": "g9IgpPpW5q2J"
      },
      "source": [
        "#### 63. Create an array class that has a name attribute (★★☆) \n",
        "(**hint**: class method)"
      ]
    },
    {
      "cell_type": "code",
      "execution_count": 12,
      "metadata": {
        "id": "Cwsrufip5q2J",
        "colab": {
          "base_uri": "https://localhost:8080/"
        },
        "outputId": "02e9be2e-f727-4dff-e45c-eb2f5b98d635"
      },
      "outputs": [
        {
          "output_type": "stream",
          "name": "stdout",
          "text": [
            "range_10\n"
          ]
        }
      ],
      "source": [
        "class NamedArray(np.ndarray):\n",
        "    def __new__(cls, array, name=\"no name\"):\n",
        "        obj = np.asarray(array).view(cls)\n",
        "        obj.name = name\n",
        "        return obj\n",
        "    def __array_finalize__(self, obj):\n",
        "        if obj is None: return\n",
        "        self.info = getattr(obj,'name', \"no name\")\n",
        "\n",
        "Z = NamedArray(np.arange(10), \"range_10\")\n",
        "print (Z.name)"
      ]
    },
    {
      "cell_type": "markdown",
      "metadata": {
        "id": "kw5GlvGK5q2J"
      },
      "source": [
        "#### 64. Consider a given vector, how to add 1 to each element indexed by a second vector (be careful with repeated indices)? (★★★) \n",
        "(**hint**: np.bincount | np.add.at)"
      ]
    },
    {
      "cell_type": "code",
      "execution_count": 14,
      "metadata": {
        "id": "TgTfsIBE5q2J",
        "colab": {
          "base_uri": "https://localhost:8080/"
        },
        "outputId": "d5be5e03-356f-4322-d8be-02db27ed652e"
      },
      "outputs": [
        {
          "output_type": "stream",
          "name": "stdout",
          "text": [
            "[3. 2. 2. 4. 6. 1. 2. 3. 4. 3.]\n",
            "[ 5.  3.  3.  7. 11.  1.  3.  5.  7.  5.]\n"
          ]
        }
      ],
      "source": [
        "Z = np.ones(10)\n",
        "I = np.random.randint(0,len(Z),20)\n",
        "Z += np.bincount(I, minlength=len(Z))\n",
        "print(Z)\n",
        "\n",
        "np.add.at(Z, I, 1)\n",
        "print(Z)"
      ]
    },
    {
      "cell_type": "markdown",
      "metadata": {
        "id": "FsE1fVxx5q2J"
      },
      "source": [
        "#### 65. How to accumulate elements of a vector (X) to an array (F) based on an index list (I)? (★★★) \n",
        "(**hint**: np.bincount)"
      ]
    },
    {
      "cell_type": "code",
      "execution_count": 15,
      "metadata": {
        "id": "QSKE3s_y5q2J",
        "colab": {
          "base_uri": "https://localhost:8080/"
        },
        "outputId": "f27e747d-8a6f-4cd7-e665-6cf773140e52"
      },
      "outputs": [
        {
          "output_type": "stream",
          "name": "stdout",
          "text": [
            "[0. 7. 0. 6. 5. 0. 0. 0. 0. 3.]\n"
          ]
        }
      ],
      "source": [
        "X = [1,2,3,4,5,6]\n",
        "I = [1,3,9,3,4,1]\n",
        "F = np.bincount(I,X)\n",
        "print (F)"
      ]
    },
    {
      "cell_type": "markdown",
      "metadata": {
        "id": "nB_Mbs0v5q2J"
      },
      "source": [
        "#### 66. Considering a (w,h,3) image of (dtype=ubyte), compute the number of unique colors (★★★) \n",
        "(**hint**: np.unique)"
      ]
    },
    {
      "cell_type": "code",
      "execution_count": 16,
      "metadata": {
        "id": "mkf6ovg55q2J",
        "colab": {
          "base_uri": "https://localhost:8080/"
        },
        "outputId": "6bec82b1-7de7-4fef-9d6a-7c8200fd2c4d"
      },
      "outputs": [
        {
          "output_type": "stream",
          "name": "stdout",
          "text": [
            "8\n"
          ]
        }
      ],
      "source": [
        "w,h = 16,16\n",
        "I = np.random.randint(0,2,(h,w,3)).astype(np.ubyte)\n",
        "F = I[...,0]*(256*256) + I[...,1]*256 +I[...,2]\n",
        "n = len(np.unique(F))\n",
        "print (n)"
      ]
    },
    {
      "cell_type": "markdown",
      "metadata": {
        "id": "0tGIaouc5q2J"
      },
      "source": [
        "#### 67. Considering a four dimensions array, how to get sum over the last two axis at once? (★★★) \n",
        "(**hint**: sum(axis=(-2,-1)))"
      ]
    },
    {
      "cell_type": "code",
      "execution_count": 17,
      "metadata": {
        "id": "YgFhUmtw5q2K",
        "colab": {
          "base_uri": "https://localhost:8080/"
        },
        "outputId": "bf87eb01-1be8-44fa-a30e-8bb67bba495d"
      },
      "outputs": [
        {
          "output_type": "stream",
          "name": "stdout",
          "text": [
            "[[65 44 59 69]\n",
            " [67 58 58 56]\n",
            " [42 46 66 48]]\n"
          ]
        }
      ],
      "source": [
        "A = np.random.randint(0,10,(3,4,3,4))\n",
        "sum = A.sum(axis=(-2,-1))\n",
        "print (sum)\n"
      ]
    },
    {
      "cell_type": "markdown",
      "metadata": {
        "id": "CJ_tzCNU5q2K"
      },
      "source": [
        "#### 68. Considering a one-dimensional vector D, how to compute means of subsets of D using a vector S of same size describing subset  indices? (★★★) \n",
        "(**hint**: np.bincount)"
      ]
    },
    {
      "cell_type": "code",
      "execution_count": 18,
      "metadata": {
        "id": "gpgdBLVZ5q2K",
        "colab": {
          "base_uri": "https://localhost:8080/"
        },
        "outputId": "56e9b580-69fb-4772-ccf6-a4c562f27649"
      },
      "outputs": [
        {
          "output_type": "stream",
          "name": "stdout",
          "text": [
            "[0.41753465 0.55025062 0.53740212 0.56076631 0.20846809 0.47194728\n",
            " 0.55243557 0.56449258 0.47690464 0.55531031]\n"
          ]
        }
      ],
      "source": [
        "D = np.random.uniform(0,1,100)\n",
        "S = np.random.randint(0,10,100)\n",
        "D_sums = np.bincount(S, weights=D)\n",
        "D_counts = np.bincount(S)\n",
        "D_means = D_sums/D_counts\n",
        "print (D_means)"
      ]
    },
    {
      "cell_type": "markdown",
      "metadata": {
        "id": "PVqABGEC5q2K"
      },
      "source": [
        "#### 69. How to get the diagonal of a dot product? (★★★) \n",
        "(**hint**: np.diag)"
      ]
    },
    {
      "cell_type": "code",
      "execution_count": 19,
      "metadata": {
        "id": "_F6rY9XI5q2K",
        "colab": {
          "base_uri": "https://localhost:8080/"
        },
        "outputId": "5d7709bd-2d57-4731-a095-aa861949bfe7"
      },
      "outputs": [
        {
          "output_type": "execute_result",
          "data": {
            "text/plain": [
              "array([0.52051506, 0.85394959, 1.97288941, 1.34594095, 0.68859021])"
            ]
          },
          "metadata": {},
          "execution_count": 19
        }
      ],
      "source": [
        "A = np.random.uniform(0,1,(5,5))\n",
        "B = np.random.uniform(0,1,(5,5))\n",
        "np.diag(np.dot(A, B))"
      ]
    },
    {
      "cell_type": "markdown",
      "metadata": {
        "id": "eU9aONrF5q2K"
      },
      "source": [
        "#### 70. Consider the vector \\[1, 2, 3, 4, 5\\], how to build a new vector with 3 consecutive zeros interleaved between each value? (★★★) \n",
        "(**hint**: array\\[::4\\])"
      ]
    },
    {
      "cell_type": "code",
      "execution_count": 20,
      "metadata": {
        "id": "AY2W5lsL5q2K",
        "colab": {
          "base_uri": "https://localhost:8080/"
        },
        "outputId": "750b6fb5-81fa-4ee2-9676-adda591368eb"
      },
      "outputs": [
        {
          "output_type": "stream",
          "name": "stdout",
          "text": [
            "[1. 0. 0. 0. 2. 0. 0. 0. 3. 0. 0. 0. 4. 0. 0. 0. 5.]\n"
          ]
        }
      ],
      "source": [
        "Z = np.array([1,2,3,4,5])\n",
        "nz = 3\n",
        "Z0 = np.zeros(len(Z) + (len(Z)-1)*(nz))\n",
        "Z0[::nz+1] = Z\n",
        "print (Z0)"
      ]
    },
    {
      "cell_type": "markdown",
      "metadata": {
        "id": "_SHpLj5f5q2L"
      },
      "source": [
        "#### 71. Consider an array of dimension (5,5,3), how to mulitply it by an array with dimensions (5,5)? (★★★) \n",
        "(**hint**: array\\[:, :, None\\])"
      ]
    },
    {
      "cell_type": "code",
      "execution_count": 21,
      "metadata": {
        "collapsed": true,
        "id": "OwbHV7YU5q2L",
        "colab": {
          "base_uri": "https://localhost:8080/"
        },
        "outputId": "93d2280c-5115-4cd2-f96f-258014c1d671"
      },
      "outputs": [
        {
          "output_type": "stream",
          "name": "stdout",
          "text": [
            "[[[2. 2. 2.]\n",
            "  [2. 2. 2.]\n",
            "  [2. 2. 2.]\n",
            "  [2. 2. 2.]\n",
            "  [2. 2. 2.]]\n",
            "\n",
            " [[2. 2. 2.]\n",
            "  [2. 2. 2.]\n",
            "  [2. 2. 2.]\n",
            "  [2. 2. 2.]\n",
            "  [2. 2. 2.]]\n",
            "\n",
            " [[2. 2. 2.]\n",
            "  [2. 2. 2.]\n",
            "  [2. 2. 2.]\n",
            "  [2. 2. 2.]\n",
            "  [2. 2. 2.]]\n",
            "\n",
            " [[2. 2. 2.]\n",
            "  [2. 2. 2.]\n",
            "  [2. 2. 2.]\n",
            "  [2. 2. 2.]\n",
            "  [2. 2. 2.]]\n",
            "\n",
            " [[2. 2. 2.]\n",
            "  [2. 2. 2.]\n",
            "  [2. 2. 2.]\n",
            "  [2. 2. 2.]\n",
            "  [2. 2. 2.]]]\n"
          ]
        }
      ],
      "source": [
        "A = np.ones((5,5,3))\n",
        "B = 2*np.ones((5,5))\n",
        "print (A * B[:,:,None])"
      ]
    },
    {
      "cell_type": "markdown",
      "metadata": {
        "id": "XKlgskv85q2L"
      },
      "source": [
        "#### 72. How to swap two rows of an array? (★★★) \n",
        "(**hint**: array\\[\\[\\]\\] = array\\[\\[\\]\\])"
      ]
    },
    {
      "cell_type": "code",
      "execution_count": 22,
      "metadata": {
        "id": "ZCWtV5-i5q2L",
        "colab": {
          "base_uri": "https://localhost:8080/"
        },
        "outputId": "b7b08360-f290-4946-92ce-153f4d792236"
      },
      "outputs": [
        {
          "output_type": "stream",
          "name": "stdout",
          "text": [
            "[[ 5  6  7  8  9]\n",
            " [ 0  1  2  3  4]\n",
            " [10 11 12 13 14]\n",
            " [15 16 17 18 19]\n",
            " [20 21 22 23 24]]\n"
          ]
        }
      ],
      "source": [
        "A = np.arange(25).reshape(5,5)\n",
        "A[[0,1]] = A[[1,0]]\n",
        "print (A)"
      ]
    },
    {
      "cell_type": "markdown",
      "metadata": {
        "id": "OONYPxPu5q2M"
      },
      "source": [
        "#### 73. Consider a set of 10 triplets describing 10 triangles (with shared vertices), find the set of unique line segments composing all the  triangles (★★★) \n",
        "(**hint**: repeat, np.roll, np.sort, view, np.unique)"
      ]
    },
    {
      "cell_type": "code",
      "execution_count": 23,
      "metadata": {
        "id": "nTBUuvDY5q2M",
        "colab": {
          "base_uri": "https://localhost:8080/"
        },
        "outputId": "a6048561-ce1a-4e3d-ba27-515c79b66542"
      },
      "outputs": [
        {
          "output_type": "stream",
          "name": "stdout",
          "text": [
            "[( 4, 61) ( 4, 92) ( 8, 44) ( 8, 95) ( 9, 63) ( 9, 86) (14, 54) (14, 63)\n",
            " (16, 22) (16, 78) (22, 78) (28, 44) (28, 51) (33, 53) (33, 55) (43, 46)\n",
            " (43, 56) (44, 51) (44, 95) (46, 56) (53, 55) (54, 63) (57, 67) (57, 86)\n",
            " (61, 92) (63, 86) (67, 86) (72, 75) (72, 88) (75, 88)]\n"
          ]
        }
      ],
      "source": [
        "faces = np.random.randint(0,100,(10,3))\n",
        "F = np.roll(faces.repeat(2,axis=1),-1,axis=1)\n",
        "F = F.reshape(len(F)*3,2)\n",
        "F = np.sort(F,axis=1)\n",
        "G = F.view( dtype=[('p0',F.dtype),('p1',F.dtype)])\n",
        "G = np.unique(G)\n",
        "print (G)"
      ]
    },
    {
      "cell_type": "markdown",
      "metadata": {
        "id": "jnsvOs9I5q2N"
      },
      "source": [
        "#### 74. Given an array C that is a bincount, how to produce an array A such that np.bincount(A) == C? (★★★) \n",
        "(**hint**: np.repeat)"
      ]
    },
    {
      "cell_type": "code",
      "execution_count": 24,
      "metadata": {
        "id": "ARm4hJV85q2N",
        "colab": {
          "base_uri": "https://localhost:8080/"
        },
        "outputId": "840e8a35-81ef-4824-a7e8-065a733006c7"
      },
      "outputs": [
        {
          "output_type": "stream",
          "name": "stdout",
          "text": [
            "[1 1 2 3 4 4 6]\n"
          ]
        }
      ],
      "source": [
        "C = np.bincount([1,1,2,3,4,4,6])\n",
        "A = np.repeat(np.arange(len(C)), C)\n",
        "print (A)"
      ]
    },
    {
      "cell_type": "markdown",
      "metadata": {
        "id": "DvhaNqO05q2N"
      },
      "source": [
        "#### 75. How to compute averages using a sliding window over an array? (★★★) \n",
        "(**hint**: np.cumsum)"
      ]
    },
    {
      "cell_type": "code",
      "execution_count": 25,
      "metadata": {
        "id": "XfOulL_p5q2N",
        "colab": {
          "base_uri": "https://localhost:8080/"
        },
        "outputId": "0b6e07f8-a6f8-4203-af9f-dbe28655dd9a"
      },
      "outputs": [
        {
          "output_type": "stream",
          "name": "stdout",
          "text": [
            "[ 1.  2.  3.  4.  5.  6.  7.  8.  9. 10. 11. 12. 13. 14. 15. 16. 17. 18.]\n"
          ]
        }
      ],
      "source": [
        "def moving_average(a, n=3):\n",
        "    ret = np.cumsum(a, dtype=float)\n",
        "    ret[n:] = ret[n:]-ret[:-n]\n",
        "    return ret[n-1:]/n\n",
        "Z = np.arange(20)\n",
        "print(moving_average(Z, n=3))"
      ]
    },
    {
      "cell_type": "markdown",
      "metadata": {
        "id": "8dSNxrh75q2N"
      },
      "source": [
        "#### 76. Consider a one-dimensional array Z, build a two-dimensional array whose first row is (Z\\[0\\],Z\\[1\\],Z\\[2\\]) and each subsequent row is  shifted by 1 (last row should be (Z\\[-3\\],Z\\[-2\\],Z\\[-1\\]) (★★★) \n",
        "(**hint**: from numpy.lib import stride_tricks)"
      ]
    },
    {
      "cell_type": "code",
      "execution_count": 26,
      "metadata": {
        "id": "WeI5S10I5q2N",
        "colab": {
          "base_uri": "https://localhost:8080/"
        },
        "outputId": "76085b75-ebc7-4b68-8f90-f8c1b1e05f27"
      },
      "outputs": [
        {
          "output_type": "stream",
          "name": "stdout",
          "text": [
            "[[0 1 2]\n",
            " [1 2 3]\n",
            " [2 3 4]\n",
            " [3 4 5]\n",
            " [4 5 6]\n",
            " [5 6 7]\n",
            " [6 7 8]\n",
            " [7 8 9]]\n"
          ]
        }
      ],
      "source": [
        "from numpy.lib import stride_tricks\n",
        "def rolling(a, window):\n",
        "    shape = (a.size-window + 1, window)\n",
        "    strides = (a.itemsize, a.itemsize)\n",
        "    return stride_tricks.as_strided(a, shape=shape, strides=strides)\n",
        "Z = rolling(np.arange(10), 3)\n",
        "print (Z)"
      ]
    },
    {
      "cell_type": "markdown",
      "metadata": {
        "id": "yiAA3Dph5q2N"
      },
      "source": [
        "#### 77. How to negate a boolean, or to change the sign of a float inplace? (★★★) \n",
        "(**hint**: np.logical_not, np.negative)"
      ]
    },
    {
      "cell_type": "code",
      "execution_count": 30,
      "metadata": {
        "id": "lsU4s-BT5q2O",
        "colab": {
          "base_uri": "https://localhost:8080/"
        },
        "outputId": "8f8d99a3-db13-47b3-abe7-85b7284e64bc"
      },
      "outputs": [
        {
          "output_type": "execute_result",
          "data": {
            "text/plain": [
              "array([1, 1, 1, 0, 1, 0, 1, 0, 0, 1, 1, 1, 0, 0, 1, 1, 0, 1, 0, 0, 0, 1,\n",
              "       0, 1, 0, 0, 0, 1, 0, 1, 1, 1, 1, 1, 1, 0, 1, 0, 0, 0, 1, 0, 1, 0,\n",
              "       1, 0, 0, 1, 1, 1, 1, 1, 1, 1, 0, 1, 1, 1, 1, 1, 1, 0, 0, 1, 0, 0,\n",
              "       1, 1, 1, 1, 1, 1, 1, 1, 0, 1, 1, 1, 0, 1, 1, 0, 1, 0, 1, 1, 0, 1,\n",
              "       1, 0, 0, 1, 1, 1, 0, 1, 1, 0, 1, 0])"
            ]
          },
          "metadata": {},
          "execution_count": 30
        }
      ],
      "source": [
        "Z = np.random.randint(0,2,100)\n",
        "np.logical_not(Z, out=Z)"
      ]
    },
    {
      "cell_type": "code",
      "source": [
        "Z = np.random.uniform(-1.0,1.0,100)\n",
        "np.negative(Z, out=Z)"
      ],
      "metadata": {
        "colab": {
          "base_uri": "https://localhost:8080/"
        },
        "id": "n3pfqXRdZ8Eo",
        "outputId": "acae23a8-ed8d-4455-f1b3-5844e28bbfd6"
      },
      "execution_count": 28,
      "outputs": [
        {
          "output_type": "execute_result",
          "data": {
            "text/plain": [
              "array([-0.89509422, -0.53033775, -0.66161609, -0.88942127, -0.72869716,\n",
              "       -0.52127158,  0.86985805,  0.78123129,  0.78618839, -0.5710308 ,\n",
              "       -0.62064191,  0.97298679,  0.37872013,  0.63694689, -0.71377244,\n",
              "        0.57560277,  0.06112463,  0.88271475, -0.54673455,  0.68823134,\n",
              "        0.82350923,  0.27665523, -0.18305847, -0.81139963, -0.57845285,\n",
              "       -0.25674446, -0.48344844,  0.71254056, -0.28969452, -0.08015721,\n",
              "       -0.86483517, -0.0874016 , -0.6042336 , -0.69185298, -0.10866331,\n",
              "       -0.34305427, -0.39713549, -0.84419846,  0.82789675, -0.10435429,\n",
              "        0.60576824, -0.27669231,  0.21007169,  0.6529215 ,  0.19601662,\n",
              "        0.97770321, -0.64579796,  0.17539288,  0.64399692,  0.52053606,\n",
              "       -0.77534011, -0.66477526, -0.26173549, -0.01522929, -0.37724437,\n",
              "       -0.62101619, -0.20240251,  0.23118434,  0.05753109, -0.90023608,\n",
              "        0.83087873, -0.53793984, -0.72648096, -0.66221354,  0.66880863,\n",
              "       -0.78653118,  0.0871998 ,  0.82591966, -0.9915544 , -0.42908542,\n",
              "        0.29638259, -0.61138702,  0.07129273, -0.75341215,  0.699695  ,\n",
              "       -0.34317031,  0.15139134, -0.50777828,  0.53756042, -0.89485293,\n",
              "       -0.15785372, -0.50978056,  0.97351207,  0.99513247,  0.8332652 ,\n",
              "       -0.71021791,  0.26713418,  0.14476504, -0.12883734, -0.58219513,\n",
              "       -0.93775622, -0.74947929, -0.93075421, -0.24916612,  0.27051766,\n",
              "       -0.9762943 ,  0.27235218,  0.90477086,  0.42653562, -0.57867139])"
            ]
          },
          "metadata": {},
          "execution_count": 28
        }
      ]
    },
    {
      "cell_type": "markdown",
      "metadata": {
        "id": "vRlvWnj_5q2O"
      },
      "source": [
        "#### 78. Consider 2 sets of points P0,P1 describing lines (2d) and a point p, how to compute distance from p to each line i  (P0\\[i\\],P1\\[i\\])? (★★★)"
      ]
    },
    {
      "cell_type": "code",
      "execution_count": 32,
      "metadata": {
        "id": "355LBd1-5q2O",
        "colab": {
          "base_uri": "https://localhost:8080/"
        },
        "outputId": "55f2cf45-ac2b-416d-bfc0-adeb3dd6e58f"
      },
      "outputs": [
        {
          "output_type": "stream",
          "name": "stdout",
          "text": [
            "[1.80807235 0.13122162 6.89653039 8.66480574 5.8922062  1.42558273\n",
            " 2.16034781 6.58984356 3.53042196 0.66630363]\n"
          ]
        }
      ],
      "source": [
        "def distance(P0, P1, p):\n",
        "    T = P1-P0\n",
        "    L = (T**2).sum(axis=1)\n",
        "    U = -((P0[:,0]-p[...,0])*T[:,0] + (P0[:,1]-p[...,1])*T[: ,1])/L\n",
        "    U = U.reshape(len(U),1)\n",
        "    D = P0 + U*T-p\n",
        "    return np.sqrt((D**2).sum(axis=1))\n",
        "\n",
        "P0 = np.random.uniform(-10,10,(10,2))\n",
        "P1 = np.random.uniform(-10,10,(10,2))\n",
        "p = np.random.uniform(-10,10,( 1,2))\n",
        "\n",
        "print (distance(P0, P1, p))"
      ]
    },
    {
      "cell_type": "markdown",
      "metadata": {
        "id": "YdK113vD5q2O"
      },
      "source": [
        "#### 79. Consider 2 sets of points P0,P1 describing lines (2d) and a set of points P, how to compute distance from each point j (P\\[j\\]) to each line i (P0\\[i\\],P1\\[i\\])? (★★★)"
      ]
    },
    {
      "cell_type": "code",
      "execution_count": 33,
      "metadata": {
        "id": "QHRQNzpZ5q2O",
        "colab": {
          "base_uri": "https://localhost:8080/"
        },
        "outputId": "6808d917-b522-4181-89bf-7ab7833bea67"
      },
      "outputs": [
        {
          "output_type": "stream",
          "name": "stdout",
          "text": [
            "[[ 1.29725067  4.13278506  1.2165281   0.61653927 10.11674327 14.43916473\n",
            "  19.97488568 13.91336047 16.39442957 17.18209814]\n",
            " [16.41657683 10.17801769  5.70077604  4.3718316  13.91896185  9.36298007\n",
            "   2.99270417  3.95279524  5.35460072  4.807652  ]\n",
            " [17.35382017  8.36109503 17.48247476 11.55214586  0.64959478  0.0313112\n",
            "   3.93877374 21.84596949 11.57771334  0.15677687]\n",
            " [14.33007943  8.14365075  5.38120296  3.63814128 10.8250391   6.36795081\n",
            "   0.14014898  5.45891877  2.46601579  2.10675784]\n",
            " [14.93610335  0.68707022 10.28859466  2.87266854  5.65934786  2.82089463\n",
            "   2.42888123 12.70354851  4.23647878  0.33560646]\n",
            " [ 1.65662703  7.95609461  3.84041777  9.34948009  1.20283068  5.14468672\n",
            "  12.04862953  2.99042855  3.67522037 10.43397895]\n",
            " [ 7.55182921  1.63016531  4.28594693  1.33437573  0.84594034  3.30941138\n",
            "   9.08645453 10.26067083  6.8285036   6.63713775]\n",
            " [14.63456924  2.51388828 11.9815625   5.4075548   3.021629    0.7925374\n",
            "   4.06841136 15.69618219  7.37811345  0.97787895]\n",
            " [13.15070656  2.94642645  7.62196402  0.15823238  6.02629373  2.4536116\n",
            "   3.18096655 10.17379798  2.95957515  0.70520072]\n",
            " [ 6.69181322  6.24522459  0.89149593  5.58860764  3.68033933  1.55062892\n",
            "   7.9597769   5.67548876  2.90842746  6.0185048 ]]\n"
          ]
        }
      ],
      "source": [
        "P0 = np.random.uniform(-10, 10, (10,2))\n",
        "P1 = np.random.uniform(-10,10,(10,2))\n",
        "p = np.random.uniform(-10, 10, (10,2))\n",
        "print (np.array([distance(P0,P1,p_i) for p_i in p]))"
      ]
    },
    {
      "cell_type": "markdown",
      "metadata": {
        "id": "un8sTbq95q2O"
      },
      "source": [
        "#### 80. Consider an arbitrary array, write a function that extract a subpart with a fixed shape and centered on a given element (pad with a `fill` value when necessary) (★★★) \n",
        "(**hint**: minimum, maximum)"
      ]
    },
    {
      "cell_type": "code",
      "execution_count": null,
      "metadata": {
        "id": "VYKf4Zvj5q2O"
      },
      "outputs": [],
      "source": []
    },
    {
      "cell_type": "markdown",
      "metadata": {
        "id": "VV4frN9-5q2P"
      },
      "source": [
        "#### 81. Consider an array Z = \\[1,2,3,4,5,6,7,8,9,10,11,12,13,14\\], how to generate an array R = \\[\\[1,2,3,4\\], \\[2,3,4,5\\], \\[3,4,5,6\\], ..., \\[11,12,13,14\\]\\]? (★★★) \n",
        "(**hint**: stride\\_tricks.as\\_strided)"
      ]
    },
    {
      "cell_type": "code",
      "execution_count": 34,
      "metadata": {
        "id": "9TMypkDU5q2P",
        "colab": {
          "base_uri": "https://localhost:8080/"
        },
        "outputId": "e242da47-44cb-4302-824e-52b973026e13"
      },
      "outputs": [
        {
          "output_type": "stream",
          "name": "stdout",
          "text": [
            "[[ 1  2  3  4]\n",
            " [ 2  3  4  5]\n",
            " [ 3  4  5  6]\n",
            " [ 4  5  6  7]\n",
            " [ 5  6  7  8]\n",
            " [ 6  7  8  9]\n",
            " [ 7  8  9 10]\n",
            " [ 8  9 10 11]\n",
            " [ 9 10 11 12]\n",
            " [10 11 12 13]\n",
            " [11 12 13 14]]\n"
          ]
        }
      ],
      "source": [
        "Z = np.arange(1,15,dtype=np.uint32)\n",
        "R = stride_tricks.as_strided(Z,(11,4),(4,4))\n",
        "print (R)"
      ]
    },
    {
      "cell_type": "markdown",
      "metadata": {
        "id": "6ZH2YfT-5q2P"
      },
      "source": [
        "#### 82. Compute a matrix rank (★★★) \n",
        "(**hint**: np.linalg.svd) (suggestion: np.linalg.svd)"
      ]
    },
    {
      "cell_type": "code",
      "execution_count": 35,
      "metadata": {
        "id": "w0N8B_hl5q2P",
        "colab": {
          "base_uri": "https://localhost:8080/"
        },
        "outputId": "2e6cf49c-ca49-4ea0-cb0b-372fe2fd5d03"
      },
      "outputs": [
        {
          "output_type": "stream",
          "name": "stdout",
          "text": [
            "10\n"
          ]
        }
      ],
      "source": [
        "Z = np.random.uniform(0,1,(10,10))\n",
        "U, S, V = np.linalg.svd(Z) # Singular Value Decomposition\n",
        "rank = np.sum(S> 1e-10)\n",
        "print (rank)"
      ]
    },
    {
      "cell_type": "markdown",
      "metadata": {
        "id": "-eL-zR085q2P"
      },
      "source": [
        "#### 83. How to find the most frequent value in an array? \n",
        "(**hint**: np.bincount, argmax)"
      ]
    },
    {
      "cell_type": "code",
      "execution_count": 36,
      "metadata": {
        "id": "rIU_YzIJ5q2P",
        "colab": {
          "base_uri": "https://localhost:8080/"
        },
        "outputId": "572b608a-2bc9-4837-f38a-ed9bb762eb20"
      },
      "outputs": [
        {
          "output_type": "stream",
          "name": "stdout",
          "text": [
            "8\n"
          ]
        }
      ],
      "source": [
        "Z = np.random.randint(0,10,50)\n",
        "print (np.bincount(Z).argmax())"
      ]
    },
    {
      "cell_type": "markdown",
      "metadata": {
        "id": "bO1YbBk35q2P"
      },
      "source": [
        "#### 84. Extract all the contiguous 3x3 blocks from a random 10x10 matrix (★★★) \n",
        "(**hint**: stride\\_tricks.as\\_strided)"
      ]
    },
    {
      "cell_type": "code",
      "execution_count": 37,
      "metadata": {
        "id": "IKQnDqsM5q2Q",
        "colab": {
          "base_uri": "https://localhost:8080/"
        },
        "outputId": "c9581fdf-7699-499f-f056-53a3b2d67b2c"
      },
      "outputs": [
        {
          "output_type": "stream",
          "name": "stdout",
          "text": [
            "[[[[1 3 2]\n",
            "   [4 4 4]\n",
            "   [0 2 1]]\n",
            "\n",
            "  [[3 2 0]\n",
            "   [4 4 2]\n",
            "   [2 1 0]]\n",
            "\n",
            "  [[2 0 2]\n",
            "   [4 2 2]\n",
            "   [1 0 3]]\n",
            "\n",
            "  [[0 2 3]\n",
            "   [2 2 3]\n",
            "   [0 3 4]]\n",
            "\n",
            "  [[2 3 2]\n",
            "   [2 3 4]\n",
            "   [3 4 0]]\n",
            "\n",
            "  [[3 2 3]\n",
            "   [3 4 3]\n",
            "   [4 0 1]]\n",
            "\n",
            "  [[2 3 3]\n",
            "   [4 3 2]\n",
            "   [0 1 3]]\n",
            "\n",
            "  [[3 3 3]\n",
            "   [3 2 2]\n",
            "   [1 3 3]]]\n",
            "\n",
            "\n",
            " [[[4 4 4]\n",
            "   [0 2 1]\n",
            "   [2 3 2]]\n",
            "\n",
            "  [[4 4 2]\n",
            "   [2 1 0]\n",
            "   [3 2 2]]\n",
            "\n",
            "  [[4 2 2]\n",
            "   [1 0 3]\n",
            "   [2 2 3]]\n",
            "\n",
            "  [[2 2 3]\n",
            "   [0 3 4]\n",
            "   [2 3 1]]\n",
            "\n",
            "  [[2 3 4]\n",
            "   [3 4 0]\n",
            "   [3 1 1]]\n",
            "\n",
            "  [[3 4 3]\n",
            "   [4 0 1]\n",
            "   [1 1 2]]\n",
            "\n",
            "  [[4 3 2]\n",
            "   [0 1 3]\n",
            "   [1 2 3]]\n",
            "\n",
            "  [[3 2 2]\n",
            "   [1 3 3]\n",
            "   [2 3 0]]]\n",
            "\n",
            "\n",
            " [[[0 2 1]\n",
            "   [2 3 2]\n",
            "   [0 0 1]]\n",
            "\n",
            "  [[2 1 0]\n",
            "   [3 2 2]\n",
            "   [0 1 4]]\n",
            "\n",
            "  [[1 0 3]\n",
            "   [2 2 3]\n",
            "   [1 4 3]]\n",
            "\n",
            "  [[0 3 4]\n",
            "   [2 3 1]\n",
            "   [4 3 4]]\n",
            "\n",
            "  [[3 4 0]\n",
            "   [3 1 1]\n",
            "   [3 4 4]]\n",
            "\n",
            "  [[4 0 1]\n",
            "   [1 1 2]\n",
            "   [4 4 4]]\n",
            "\n",
            "  [[0 1 3]\n",
            "   [1 2 3]\n",
            "   [4 4 4]]\n",
            "\n",
            "  [[1 3 3]\n",
            "   [2 3 0]\n",
            "   [4 4 3]]]\n",
            "\n",
            "\n",
            " [[[2 3 2]\n",
            "   [0 0 1]\n",
            "   [0 1 3]]\n",
            "\n",
            "  [[3 2 2]\n",
            "   [0 1 4]\n",
            "   [1 3 1]]\n",
            "\n",
            "  [[2 2 3]\n",
            "   [1 4 3]\n",
            "   [3 1 3]]\n",
            "\n",
            "  [[2 3 1]\n",
            "   [4 3 4]\n",
            "   [1 3 4]]\n",
            "\n",
            "  [[3 1 1]\n",
            "   [3 4 4]\n",
            "   [3 4 3]]\n",
            "\n",
            "  [[1 1 2]\n",
            "   [4 4 4]\n",
            "   [4 3 4]]\n",
            "\n",
            "  [[1 2 3]\n",
            "   [4 4 4]\n",
            "   [3 4 0]]\n",
            "\n",
            "  [[2 3 0]\n",
            "   [4 4 3]\n",
            "   [4 0 4]]]\n",
            "\n",
            "\n",
            " [[[0 0 1]\n",
            "   [0 1 3]\n",
            "   [3 0 0]]\n",
            "\n",
            "  [[0 1 4]\n",
            "   [1 3 1]\n",
            "   [0 0 2]]\n",
            "\n",
            "  [[1 4 3]\n",
            "   [3 1 3]\n",
            "   [0 2 0]]\n",
            "\n",
            "  [[4 3 4]\n",
            "   [1 3 4]\n",
            "   [2 0 3]]\n",
            "\n",
            "  [[3 4 4]\n",
            "   [3 4 3]\n",
            "   [0 3 0]]\n",
            "\n",
            "  [[4 4 4]\n",
            "   [4 3 4]\n",
            "   [3 0 3]]\n",
            "\n",
            "  [[4 4 4]\n",
            "   [3 4 0]\n",
            "   [0 3 0]]\n",
            "\n",
            "  [[4 4 3]\n",
            "   [4 0 4]\n",
            "   [3 0 1]]]\n",
            "\n",
            "\n",
            " [[[0 1 3]\n",
            "   [3 0 0]\n",
            "   [2 3 0]]\n",
            "\n",
            "  [[1 3 1]\n",
            "   [0 0 2]\n",
            "   [3 0 4]]\n",
            "\n",
            "  [[3 1 3]\n",
            "   [0 2 0]\n",
            "   [0 4 1]]\n",
            "\n",
            "  [[1 3 4]\n",
            "   [2 0 3]\n",
            "   [4 1 2]]\n",
            "\n",
            "  [[3 4 3]\n",
            "   [0 3 0]\n",
            "   [1 2 2]]\n",
            "\n",
            "  [[4 3 4]\n",
            "   [3 0 3]\n",
            "   [2 2 1]]\n",
            "\n",
            "  [[3 4 0]\n",
            "   [0 3 0]\n",
            "   [2 1 4]]\n",
            "\n",
            "  [[4 0 4]\n",
            "   [3 0 1]\n",
            "   [1 4 1]]]\n",
            "\n",
            "\n",
            " [[[3 0 0]\n",
            "   [2 3 0]\n",
            "   [2 3 3]]\n",
            "\n",
            "  [[0 0 2]\n",
            "   [3 0 4]\n",
            "   [3 3 0]]\n",
            "\n",
            "  [[0 2 0]\n",
            "   [0 4 1]\n",
            "   [3 0 3]]\n",
            "\n",
            "  [[2 0 3]\n",
            "   [4 1 2]\n",
            "   [0 3 3]]\n",
            "\n",
            "  [[0 3 0]\n",
            "   [1 2 2]\n",
            "   [3 3 3]]\n",
            "\n",
            "  [[3 0 3]\n",
            "   [2 2 1]\n",
            "   [3 3 1]]\n",
            "\n",
            "  [[0 3 0]\n",
            "   [2 1 4]\n",
            "   [3 1 2]]\n",
            "\n",
            "  [[3 0 1]\n",
            "   [1 4 1]\n",
            "   [1 2 2]]]\n",
            "\n",
            "\n",
            " [[[2 3 0]\n",
            "   [2 3 3]\n",
            "   [3 2 3]]\n",
            "\n",
            "  [[3 0 4]\n",
            "   [3 3 0]\n",
            "   [2 3 4]]\n",
            "\n",
            "  [[0 4 1]\n",
            "   [3 0 3]\n",
            "   [3 4 0]]\n",
            "\n",
            "  [[4 1 2]\n",
            "   [0 3 3]\n",
            "   [4 0 0]]\n",
            "\n",
            "  [[1 2 2]\n",
            "   [3 3 3]\n",
            "   [0 0 4]]\n",
            "\n",
            "  [[2 2 1]\n",
            "   [3 3 1]\n",
            "   [0 4 4]]\n",
            "\n",
            "  [[2 1 4]\n",
            "   [3 1 2]\n",
            "   [4 4 1]]\n",
            "\n",
            "  [[1 4 1]\n",
            "   [1 2 2]\n",
            "   [4 1 1]]]]\n"
          ]
        }
      ],
      "source": [
        "Z = np.random.randint(0,5,(10,10))\n",
        "n = 3\n",
        "i = 1 + (Z.shape[0]-3)\n",
        "j = 1 + (Z.shape[1]-3)\n",
        "C = stride_tricks.as_strided(Z, shape=(i, j, n, n), strides=Z.strides + Z.strides)\n",
        "print (C)"
      ]
    },
    {
      "cell_type": "markdown",
      "metadata": {
        "id": "HMlh0pNc5q2Q"
      },
      "source": [
        "#### 85. Create a 2D array subclass such that Z\\[i,j\\] == Z\\[j,i\\] (★★★) \n",
        "(**hint**: class method)"
      ]
    },
    {
      "cell_type": "code",
      "execution_count": 50,
      "metadata": {
        "id": "IuS2lga35q2Q",
        "colab": {
          "base_uri": "https://localhost:8080/"
        },
        "outputId": "d5e1cbaa-774f-40f4-a5f6-0631b622ba0f"
      },
      "outputs": [
        {
          "output_type": "stream",
          "name": "stdout",
          "text": [
            "[[ 1  4  6  7 15]\n",
            " [ 4  7 14  5  7]\n",
            " [ 6 14  4 42 13]\n",
            " [ 7  5 42  8 10]\n",
            " [15  7 13 10  6]]\n"
          ]
        }
      ],
      "source": [
        "class Symetric(np.ndarray):\n",
        "    def __setitem__(self, index, value):\n",
        "        i,j = index\n",
        "        super(Symetric, self).__setitem__((i,j), value)\n",
        "        super(Symetric, self).__setitem__((j,i), value)\n",
        "\n",
        "def symetric(Z):\n",
        "    return np.asarray(Z + Z.T-np.diag(Z.diagonal())).view(Symetric)\n",
        "\n",
        "S = symetric(np.random.randint(0,10,(5,5)))\n",
        "S[2,3] = 42\n",
        "print (S)"
      ]
    },
    {
      "cell_type": "markdown",
      "metadata": {
        "id": "rfvy8-K45q2Q"
      },
      "source": [
        "#### 86. Consider a set of p matrices wich shape (n,n) and a set of p vectors with shape (n,1). How to compute the sum of of the p matrix products at once? (result has shape (n,1)) (★★★) \n",
        "(**hint**: np.tensordot)"
      ]
    },
    {
      "cell_type": "code",
      "execution_count": 40,
      "metadata": {
        "id": "IQDZH30U5q2Q",
        "colab": {
          "base_uri": "https://localhost:8080/"
        },
        "outputId": "580a8dc2-6617-4b73-8524-98efa0855299"
      },
      "outputs": [
        {
          "output_type": "stream",
          "name": "stdout",
          "text": [
            "[[200.]\n",
            " [200.]\n",
            " [200.]\n",
            " [200.]\n",
            " [200.]\n",
            " [200.]\n",
            " [200.]\n",
            " [200.]\n",
            " [200.]\n",
            " [200.]\n",
            " [200.]\n",
            " [200.]\n",
            " [200.]\n",
            " [200.]\n",
            " [200.]\n",
            " [200.]\n",
            " [200.]\n",
            " [200.]\n",
            " [200.]\n",
            " [200.]]\n"
          ]
        }
      ],
      "source": [
        "p, n = 10, 20\n",
        "M = np.ones((p,n,n))\n",
        "V = np.ones((p,n,1))\n",
        "S = np.tensordot(M, V, axes=[[0, 2], [0, 1]])\n",
        "print (S)"
      ]
    },
    {
      "cell_type": "markdown",
      "metadata": {
        "id": "8XheBFmC5q2Q"
      },
      "source": [
        "#### 87. Consider a 16x16 array, how to get the block-sum (block size is 4x4)? (★★★) \n",
        "(**hint**: np.add.reduceat)"
      ]
    },
    {
      "cell_type": "code",
      "execution_count": 41,
      "metadata": {
        "id": "px8Fg-lM5q2Q",
        "colab": {
          "base_uri": "https://localhost:8080/"
        },
        "outputId": "743a6fea-6f92-404b-9e39-6417526fcd17"
      },
      "outputs": [
        {
          "output_type": "stream",
          "name": "stdout",
          "text": [
            "[[16. 16. 16. 16.]\n",
            " [16. 16. 16. 16.]\n",
            " [16. 16. 16. 16.]\n",
            " [16. 16. 16. 16.]]\n"
          ]
        }
      ],
      "source": [
        "Z = np.ones((16,16))\n",
        "k = 4\n",
        "S = np.add.reduceat(np.add.reduceat(Z, np.arange(0, Z.shape[0], k), axis=0),\n",
        "                                       np.arange(0, Z.shape[1], k), axis=1)\n",
        "print (S)"
      ]
    },
    {
      "cell_type": "markdown",
      "metadata": {
        "id": "sNspPqQ_5q2Q"
      },
      "source": [
        "#### 88. How to implement the Game of Life using numpy arrays? (★★★)"
      ]
    },
    {
      "cell_type": "code",
      "execution_count": null,
      "metadata": {
        "id": "sX3gRF3w5q2Q"
      },
      "outputs": [],
      "source": []
    },
    {
      "cell_type": "markdown",
      "metadata": {
        "id": "lJ1gKrIB5q2R"
      },
      "source": [
        "#### 89. How to get the n largest values of an array (★★★) \n",
        "(**hint**: np.argsort | np.argpartition)"
      ]
    },
    {
      "cell_type": "code",
      "execution_count": 42,
      "metadata": {
        "id": "zNDP1TBQ5q2R",
        "colab": {
          "base_uri": "https://localhost:8080/"
        },
        "outputId": "d1e2e911-52ed-45aa-f68b-95a0c6266848"
      },
      "outputs": [
        {
          "output_type": "stream",
          "name": "stdout",
          "text": [
            "[9995 9996 9997 9998 9999]\n"
          ]
        }
      ],
      "source": [
        "Z = np.arange(10000)\n",
        "np.random.shuffle(Z)\n",
        "n = 5\n",
        "\n",
        "print (Z[np.argsort(Z)[-n:]])"
      ]
    },
    {
      "cell_type": "code",
      "source": [
        "print (Z[np.argpartition(-Z,n)[:n]])"
      ],
      "metadata": {
        "colab": {
          "base_uri": "https://localhost:8080/"
        },
        "id": "rC4Bp-t3bk6c",
        "outputId": "340a36ed-2d01-479c-a5a6-eea4e6e83a5c"
      },
      "execution_count": 43,
      "outputs": [
        {
          "output_type": "stream",
          "name": "stdout",
          "text": [
            "[9999 9998 9997 9996 9995]\n"
          ]
        }
      ]
    },
    {
      "cell_type": "markdown",
      "metadata": {
        "id": "fEchbjtc5q2R"
      },
      "source": [
        "#### 90. Given an arbitrary number of vectors, build the cartesian product (every combinations of every item) (★★★) \n",
        "(**hint**: np.indices)"
      ]
    },
    {
      "cell_type": "code",
      "execution_count": null,
      "metadata": {
        "scrolled": true,
        "id": "i2BMdltF5q2R"
      },
      "outputs": [],
      "source": []
    },
    {
      "cell_type": "markdown",
      "metadata": {
        "id": "rWKVHqW55q2R"
      },
      "source": [
        "#### 91. How to create a record array from a regular array? (★★★) \n",
        "(**hint**: np.core.records.fromarrays)"
      ]
    },
    {
      "cell_type": "code",
      "execution_count": 49,
      "metadata": {
        "id": "ho-5Lvsi5q2R",
        "colab": {
          "base_uri": "https://localhost:8080/"
        },
        "outputId": "a7d0c562-2f00-4f2e-fc20-e03c58c908ff"
      },
      "outputs": [
        {
          "output_type": "stream",
          "name": "stdout",
          "text": [
            "[(b'Hello', 2.5, 3) (b'World', 3.6, 2)]\n"
          ]
        }
      ],
      "source": [
        "Z = np.array([(\"Hello\", 2.5, 3),\n",
        "              (\"World\", 3.6, 2)])\n",
        "R = np.core.records.fromarrays(Z.T, \n",
        "                               names='col1, col2, col3',\n",
        "                               formats ='S8, f8, i8')\n",
        "print (R)"
      ]
    },
    {
      "cell_type": "markdown",
      "metadata": {
        "id": "0BNAYwDE5q2R"
      },
      "source": [
        "#### 92. Consider a large vector Z, compute Z to the power of 3 using 3 different methods (★★★) \n",
        "(**hint**: np.power, \\*, np.einsum)"
      ]
    },
    {
      "cell_type": "code",
      "execution_count": 62,
      "metadata": {
        "id": "d8Z7ar_e5q2R",
        "colab": {
          "base_uri": "https://localhost:8080/"
        },
        "outputId": "d7803b6d-9252-484a-c90a-579bd45199d7"
      },
      "outputs": [
        {
          "output_type": "execute_result",
          "data": {
            "text/plain": [
              "0.043800851883714916"
            ]
          },
          "metadata": {},
          "execution_count": 62
        }
      ],
      "source": [
        "x = np.random.rand()\n",
        "np.power(x,3)"
      ]
    },
    {
      "cell_type": "code",
      "source": [
        "x*x*x"
      ],
      "metadata": {
        "colab": {
          "base_uri": "https://localhost:8080/"
        },
        "id": "SQOC2qeTdaVW",
        "outputId": "7648624e-e9c3-491e-98b3-d985be07a35f"
      },
      "execution_count": 60,
      "outputs": [
        {
          "output_type": "execute_result",
          "data": {
            "text/plain": [
              "0.09593628749134177"
            ]
          },
          "metadata": {},
          "execution_count": 60
        }
      ]
    },
    {
      "cell_type": "markdown",
      "metadata": {
        "id": "O4waUlib5q2S"
      },
      "source": [
        "#### 93. Consider two arrays A and B of shape (8,3) and (2,2). How to find rows of A that contain elements of each row of B regardless of the order of the elements in B? (★★★) \n",
        "(**hint**: np.where)"
      ]
    },
    {
      "cell_type": "code",
      "execution_count": 66,
      "metadata": {
        "id": "wzqo68Ys5q2S",
        "colab": {
          "base_uri": "https://localhost:8080/"
        },
        "outputId": "c9f71af4-9a32-4390-c6d1-6a5bbcc0cfa7"
      },
      "outputs": [
        {
          "output_type": "stream",
          "name": "stdout",
          "text": [
            "[0 1 2 3 5 7]\n"
          ]
        }
      ],
      "source": [
        "A = np.random.randint(0,5,(8,3))\n",
        "B = np.random.randint(0,5,(2,2))\n",
        "\n",
        "C = (A[..., np.newaxis, np.newaxis] == B)\n",
        "rows = np.where(C.any((3,1)).all(1))[0]\n",
        "print (rows)"
      ]
    },
    {
      "cell_type": "markdown",
      "metadata": {
        "id": "tfm1CJp35q2S"
      },
      "source": [
        "#### 94. Considering a 10x3 matrix, extract rows with unequal values (e.g. \\[2,2,3\\]) (★★★)"
      ]
    },
    {
      "cell_type": "code",
      "execution_count": 68,
      "metadata": {
        "id": "jj3cXFP15q2S",
        "colab": {
          "base_uri": "https://localhost:8080/"
        },
        "outputId": "f983b232-a584-4e5f-a246-4ae78a669144"
      },
      "outputs": [
        {
          "output_type": "stream",
          "name": "stdout",
          "text": [
            "[[3 0 0]\n",
            " [1 4 0]\n",
            " [1 3 2]\n",
            " [4 4 4]\n",
            " [2 0 1]\n",
            " [1 2 4]\n",
            " [3 1 2]\n",
            " [0 2 0]\n",
            " [1 2 1]\n",
            " [1 4 2]]\n",
            "[[3 0 0]\n",
            " [1 4 0]\n",
            " [1 3 2]\n",
            " [2 0 1]\n",
            " [1 2 4]\n",
            " [3 1 2]\n",
            " [0 2 0]\n",
            " [1 2 1]\n",
            " [1 4 2]]\n"
          ]
        }
      ],
      "source": [
        "Z = np.random.randint(0,5,(10,3))\n",
        "print (Z)\n",
        "E = np.all(Z[:,1:] == Z[:,:-1], axis=1)\n",
        "U = Z[~E]\n",
        "print (U)"
      ]
    },
    {
      "cell_type": "markdown",
      "metadata": {
        "id": "qkIEpMbc5q2S"
      },
      "source": [
        "#### 95. Convert a vector of ints into a matrix binary representation (★★★) \n",
        "(**hint**: np.unpackbits)"
      ]
    },
    {
      "cell_type": "code",
      "execution_count": 71,
      "metadata": {
        "id": "vXEPeeC75q2S"
      },
      "outputs": [],
      "source": []
    },
    {
      "cell_type": "markdown",
      "metadata": {
        "id": "51VMhOmQ5q2S"
      },
      "source": [
        "#### 96. Given a two dimensional array, how to extract unique rows? (★★★) \n",
        "(**hint**: np.ascontiguousarray)"
      ]
    },
    {
      "cell_type": "code",
      "execution_count": 72,
      "metadata": {
        "id": "DC7UzvyO5q2S",
        "colab": {
          "base_uri": "https://localhost:8080/"
        },
        "outputId": "5f91c8f9-3c0d-4080-ccfa-00e0ae55646f"
      },
      "outputs": [
        {
          "output_type": "stream",
          "name": "stdout",
          "text": [
            "[[0 0 1]\n",
            " [0 1 0]\n",
            " [1 0 0]\n",
            " [1 0 1]\n",
            " [1 1 0]]\n"
          ]
        }
      ],
      "source": [
        "Z = np.random.randint(0,2,(6,3))\n",
        "T = np.ascontiguousarray(Z).view(np.dtype((np.void, Z.dtype.itemsize * Z.shape[1])))\n",
        "_, idx = np.unique(T, return_index=True)\n",
        "uZ = Z[idx]\n",
        "print (uZ)"
      ]
    },
    {
      "cell_type": "markdown",
      "metadata": {
        "id": "d4fzVhFM5q2S"
      },
      "source": [
        "#### 97. Considering 2 vectors A & B, write the einsum equivalent of inner, outer, sum, and mul function (★★★) \n",
        "(**hint**: np.einsum)"
      ]
    },
    {
      "cell_type": "code",
      "execution_count": 73,
      "metadata": {
        "id": "-lLrKbPa5q2S",
        "colab": {
          "base_uri": "https://localhost:8080/"
        },
        "outputId": "cb878ffe-bc82-414f-c520-0053664cc5ef"
      },
      "outputs": [
        {
          "output_type": "stream",
          "name": "stdout",
          "text": [
            "sum\n",
            "6.534621483202006\n",
            "A * B\n",
            "[0.71972771 0.1020127  0.20223346 0.42023699 0.54393365 0.27900675\n",
            " 0.0858513  0.49933877 0.06714482 0.46429434]\n",
            "inner\n",
            "3.38378048231282\n",
            "outer\n",
            "[[0.71972771 0.09363982 0.46906473 0.58515821 0.45973081 0.31191435\n",
            "  0.11391634 0.6679774  0.62073034 0.38741078]\n",
            " [0.78408274 0.1020127  0.51100653 0.63748061 0.50083801 0.33980442\n",
            "  0.12410226 0.72770514 0.67623344 0.42205143]\n",
            " [0.31030478 0.04037205 0.20223346 0.25228623 0.19820922 0.13447935\n",
            "  0.04911411 0.28799305 0.26762286 0.16702902]\n",
            " [0.51687936 0.06724834 0.33686334 0.42023699 0.3301601  0.22400428\n",
            "  0.08181011 0.47971438 0.44578345 0.27822277]\n",
            " [0.85155075 0.11079059 0.55497714 0.69233393 0.54393365 0.36904359\n",
            "  0.1347809  0.79032202 0.73442133 0.45836771]\n",
            " [0.64379496 0.08376063 0.41957744 0.52342282 0.41122827 0.27900675\n",
            "  0.10189793 0.59750442 0.55524202 0.34653815]\n",
            " [0.54241172 0.07057021 0.35350342 0.44099549 0.34646906 0.23506945\n",
            "  0.0858513  0.50341089 0.46780387 0.29196618]\n",
            " [0.53802412 0.06999936 0.35064391 0.43742825 0.34366645 0.23316796\n",
            "  0.08515684 0.49933877 0.46401978 0.28960444]\n",
            " [0.07785343 0.01012908 0.05073905 0.06329696 0.04972939 0.03373998\n",
            "  0.01232241 0.07225556 0.06714482 0.04190648]\n",
            " [0.86256119 0.1122231  0.56215292 0.70128572 0.55096664 0.37381527\n",
            "  0.1365236  0.80054077 0.7439173  0.46429434]]\n"
          ]
        }
      ],
      "source": [
        "A = np.random.uniform(0,1,10)\n",
        "B = np.random.uniform(0,1,10)\n",
        "print ('sum')\n",
        "print (np.einsum('i->', A))# np.sum(A)\n",
        "\n",
        "print ('A * B')\n",
        "print (np.einsum('i,i->i', A, B)) # A * B\n",
        "\n",
        "print ('inner')\n",
        "print (np.einsum('i,i', A, B)) # np.inner(A, B)\n",
        "\n",
        "print ('outer')\n",
        "print (np.einsum('i,j->ij', A, B)) # np.outer(A, B)"
      ]
    },
    {
      "cell_type": "markdown",
      "metadata": {
        "id": "OdhG7TOI5q2S"
      },
      "source": [
        "#### 98. Considering a path described by two vectors (X,Y), how to sample it using equidistant samples (★★★)? \n",
        "(**hint**: np.cumsum, np.interp)"
      ]
    },
    {
      "cell_type": "code",
      "execution_count": null,
      "metadata": {
        "collapsed": true,
        "id": "5XZnMoNY5q2S"
      },
      "outputs": [],
      "source": []
    },
    {
      "cell_type": "markdown",
      "metadata": {
        "id": "BKKsy6VU5q2S"
      },
      "source": [
        "#### 99. Given an integer n and a 2D array X, select from X the rows which can be interpreted as draws from a multinomial distribution with n degrees, i.e., the rows which only contain integers and which sum to n. (★★★) \n",
        "(**hint**: np.logical\\_and.reduce, np.mod)"
      ]
    },
    {
      "cell_type": "code",
      "execution_count": 74,
      "metadata": {
        "id": "coWSJksn5q2S",
        "colab": {
          "base_uri": "https://localhost:8080/"
        },
        "outputId": "d5e8ac0f-6f4e-47c7-a8ed-92ed8d998687"
      },
      "outputs": [
        {
          "output_type": "stream",
          "name": "stdout",
          "text": [
            "[[2. 0. 1. 1.]]\n"
          ]
        }
      ],
      "source": [
        "X = np.asarray([[1.0, 0.0, 3.0, 8.0],\n",
        "                [2.0, 0.0, 1.0, 1.0],\n",
        "                [1.5, 2.5, 1.0, 0.0]])\n",
        "n = 4\n",
        "M = np.logical_and.reduce(np.mod(X, 1) == 0, axis=-1)\n",
        "M &= (X.sum(axis=-1) == n)\n",
        "print (X[M])"
      ]
    },
    {
      "cell_type": "markdown",
      "metadata": {
        "id": "Mzmh-Drr5q2S"
      },
      "source": [
        "#### 100. Compute bootstrapped 95% confidence intervals for the mean of a 1D array X (i.e., resample the elements of an array with replacement N times, compute the mean of each sample, and then compute percentiles over the means). (★★★) \n",
        "(**hint**: np.percentile)"
      ]
    },
    {
      "cell_type": "code",
      "execution_count": 78,
      "metadata": {
        "id": "QYfD1LTo5q2T",
        "colab": {
          "base_uri": "https://localhost:8080/"
        },
        "outputId": "48dacb40-1dd7-462f-d124-13fa0b9cd81b"
      },
      "outputs": [
        {
          "output_type": "stream",
          "name": "stdout",
          "text": [
            "[0.00788766 0.35428514]\n"
          ]
        }
      ],
      "source": [
        "X = np.random.randn(100)\n",
        "N = 1000 \n",
        "idx = np.random.randint(0, X.size, (N, X.size))\n",
        "means = X[idx].mean(axis=1)\n",
        "confident = np.percentile(means, [2.5, 97.5])\n",
        "print (confident)"
      ]
    },
    {
      "cell_type": "code",
      "source": [],
      "metadata": {
        "id": "VspAy1grfdlT"
      },
      "execution_count": null,
      "outputs": []
    }
  ],
  "metadata": {
    "kernelspec": {
      "display_name": "Python 3",
      "language": "python",
      "name": "python3"
    },
    "language_info": {
      "codemirror_mode": {
        "name": "ipython",
        "version": 3
      },
      "file_extension": ".py",
      "mimetype": "text/x-python",
      "name": "python",
      "nbconvert_exporter": "python",
      "pygments_lexer": "ipython3",
      "version": "3.8.3"
    },
    "colab": {
      "provenance": [],
      "collapsed_sections": [
        "MNZI6FGa5q2I",
        "-XvNpakc5q2I",
        "1ODhtgft5q2I",
        "2k6quKEZ5q2I",
        "akyBN9qO5q2I",
        "u-VfLZ5G5q2I",
        "uyW_3C6j5q2J",
        "g9IgpPpW5q2J",
        "kw5GlvGK5q2J",
        "FsE1fVxx5q2J",
        "nB_Mbs0v5q2J",
        "0tGIaouc5q2J",
        "CJ_tzCNU5q2K",
        "PVqABGEC5q2K",
        "eU9aONrF5q2K",
        "_SHpLj5f5q2L",
        "XKlgskv85q2L",
        "OONYPxPu5q2M",
        "jnsvOs9I5q2N",
        "DvhaNqO05q2N",
        "8dSNxrh75q2N",
        "yiAA3Dph5q2N",
        "vRlvWnj_5q2O",
        "YdK113vD5q2O",
        "un8sTbq95q2O",
        "VV4frN9-5q2P",
        "6ZH2YfT-5q2P",
        "-eL-zR085q2P",
        "bO1YbBk35q2P",
        "HMlh0pNc5q2Q",
        "rfvy8-K45q2Q",
        "8XheBFmC5q2Q",
        "sNspPqQ_5q2Q",
        "lJ1gKrIB5q2R",
        "fEchbjtc5q2R",
        "rWKVHqW55q2R",
        "0BNAYwDE5q2R",
        "O4waUlib5q2S",
        "tfm1CJp35q2S",
        "qkIEpMbc5q2S",
        "51VMhOmQ5q2S",
        "d4fzVhFM5q2S",
        "OdhG7TOI5q2S",
        "BKKsy6VU5q2S",
        "Mzmh-Drr5q2S"
      ],
      "include_colab_link": true
    }
  },
  "nbformat": 4,
  "nbformat_minor": 0
}